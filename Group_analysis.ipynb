{
 "cells": [
  {
   "cell_type": "code",
   "execution_count": 22,
   "outputs": [],
   "source": [
    "#імпорт бібліотек\n",
    "import numpy as np\n",
    "import pandas as pd\n",
    "import matplotlib.pyplot as plt\n",
    "from sklearn.model_selection import train_test_split\n",
    "from sklearn.linear_model import LinearRegression\n",
    "from sklearn.metrics import mean_squared_log_error\n",
    "from sklearn.preprocessing import StandardScaler\n",
    "from sklearn.preprocessing import LabelEncoder\n",
    "from sklearn.ensemble import RandomForestRegressor\n",
    "from sklearn.model_selection import cross_val_score\n",
    "from sklearn.metrics import mean_squared_log_error"
   ],
   "metadata": {
    "collapsed": false
   }
  },
  {
   "cell_type": "markdown",
   "source": [
    "# Вміст таблиць:\n",
    "**key.csv:**\n",
    "```\n",
    "station_nbr - id метеостанції\n",
    "store_nbr - id магазину\n",
    "```\n",
    "\n",
    "**sampleSubmission.csv:**\n",
    "```\n",
    "id - <store_nbr>_<item_nbr>_<date>\n",
    "units - кількість проданих item\n",
    "```\n",
    "\n",
    "**train.csv & test.csv:**\n",
    "```\n",
    "date - дата\n",
    "store_nbr - id магазину\n",
    "item_nbr - id товару\n",
    "units - кількість продаж\n",
    "```\n",
    "\n",
    "**weather.csv (Колонки, які використовуються у аналізі):**\n",
    "```\n",
    "station_nbr - id магазину\n",
    "date - дата\n",
    "codesum - перелік текстових значень погодних явищ (RA - дощ, SN - сніг)\n",
    "preciototal - розмір осаду\n",
    "```\n"
   ],
   "metadata": {
    "collapsed": false
   }
  },
  {
   "cell_type": "code",
   "execution_count": 23,
   "id": "f60b9b30",
   "metadata": {},
   "outputs": [
    {
     "name": "stdout",
     "output_type": "stream",
     "text": [
      "    store_nbr  station_nbr\n",
      "0           1            1\n",
      "1           2           14\n",
      "2           3            7\n",
      "3           4            9\n",
      "4           5           12\n",
      "5           6           14\n",
      "6           7            6\n",
      "7           8            4\n",
      "8           9           17\n",
      "9          10           12\n",
      "10         11           10\n",
      "11         12           11\n",
      "12         13            6\n",
      "13         14           16\n",
      "14         15           13\n",
      "15         16            2\n",
      "16         17           20\n",
      "17         18           17\n",
      "18         19           15\n",
      "19         20            7\n",
      "20         21            3\n",
      "21         22           10\n",
      "22         23           17\n",
      "23         24            9\n",
      "24         25           13\n",
      "25         26           17\n",
      "26         27           10\n",
      "27         28            7\n",
      "28         29            3\n",
      "29         30           19\n",
      "30         31           17\n",
      "31         32           13\n",
      "32         33            3\n",
      "33         34           17\n",
      "34         35            5\n",
      "35         36           18\n",
      "36         37           13\n",
      "37         38           14\n",
      "38         39            8\n",
      "39         40           13\n",
      "40         41           12\n",
      "41         42           14\n",
      "42         43           11\n",
      "43         44           12\n",
      "44         45           16\n"
     ]
    }
   ],
   "source": [
    "# Завантаження даних з файлу\n",
    "# key.csv містить інформацію, яка метеостанція (station_nbr) відповідає за прогноз у магазині (store_nbr)\n",
    "key_data=pd.read_csv('key.csv')\n",
    "print(key_data)"
   ]
  },
  {
   "cell_type": "code",
   "execution_count": 24,
   "id": "8bbb07c5",
   "metadata": {},
   "outputs": [
    {
     "name": "stdout",
     "output_type": "stream",
     "text": [
      "<class 'pandas.core.frame.DataFrame'>\n",
      "RangeIndex: 45 entries, 0 to 44\n",
      "Data columns (total 2 columns):\n",
      " #   Column       Non-Null Count  Dtype\n",
      "---  ------       --------------  -----\n",
      " 0   store_nbr    45 non-null     int64\n",
      " 1   station_nbr  45 non-null     int64\n",
      "dtypes: int64(2)\n",
      "memory usage: 848.0 bytes\n"
     ]
    }
   ],
   "source": [
    "#загальна інформація\n",
    "key_data.info()"
   ]
  },
  {
   "cell_type": "code",
   "execution_count": 25,
   "id": "a5413b62",
   "metadata": {},
   "outputs": [
    {
     "data": {
      "text/plain": "                       id  units\n0          2_1_2013-04-01      0\n1          2_2_2013-04-01      0\n2          2_3_2013-04-01      0\n3          2_4_2013-04-01      0\n4          2_5_2013-04-01      0\n...                   ...    ...\n526912  45_107_2014-10-26      0\n526913  45_108_2014-10-26      0\n526914  45_109_2014-10-26      0\n526915  45_110_2014-10-26      0\n526916  45_111_2014-10-26      0\n\n[526917 rows x 2 columns]",
      "text/html": "<div>\n<style scoped>\n    .dataframe tbody tr th:only-of-type {\n        vertical-align: middle;\n    }\n\n    .dataframe tbody tr th {\n        vertical-align: top;\n    }\n\n    .dataframe thead th {\n        text-align: right;\n    }\n</style>\n<table border=\"1\" class=\"dataframe\">\n  <thead>\n    <tr style=\"text-align: right;\">\n      <th></th>\n      <th>id</th>\n      <th>units</th>\n    </tr>\n  </thead>\n  <tbody>\n    <tr>\n      <th>0</th>\n      <td>2_1_2013-04-01</td>\n      <td>0</td>\n    </tr>\n    <tr>\n      <th>1</th>\n      <td>2_2_2013-04-01</td>\n      <td>0</td>\n    </tr>\n    <tr>\n      <th>2</th>\n      <td>2_3_2013-04-01</td>\n      <td>0</td>\n    </tr>\n    <tr>\n      <th>3</th>\n      <td>2_4_2013-04-01</td>\n      <td>0</td>\n    </tr>\n    <tr>\n      <th>4</th>\n      <td>2_5_2013-04-01</td>\n      <td>0</td>\n    </tr>\n    <tr>\n      <th>...</th>\n      <td>...</td>\n      <td>...</td>\n    </tr>\n    <tr>\n      <th>526912</th>\n      <td>45_107_2014-10-26</td>\n      <td>0</td>\n    </tr>\n    <tr>\n      <th>526913</th>\n      <td>45_108_2014-10-26</td>\n      <td>0</td>\n    </tr>\n    <tr>\n      <th>526914</th>\n      <td>45_109_2014-10-26</td>\n      <td>0</td>\n    </tr>\n    <tr>\n      <th>526915</th>\n      <td>45_110_2014-10-26</td>\n      <td>0</td>\n    </tr>\n    <tr>\n      <th>526916</th>\n      <td>45_111_2014-10-26</td>\n      <td>0</td>\n    </tr>\n  </tbody>\n</table>\n<p>526917 rows × 2 columns</p>\n</div>"
     },
     "execution_count": 25,
     "metadata": {},
     "output_type": "execute_result"
    }
   ],
   "source": [
    "# Завантаження даних з файлу\n",
    "# sampleSubmission.csv містить приклад того, як повинен виглядати результат (замість 0 в units - результат)\n",
    "# id - <store_nbr>_<item_nbr>_<date>\n",
    "# units - кількість проданих item\n",
    "sample_submission_data=pd.read_csv('sampleSubmission.csv')\n",
    "sample_submission_data"
   ]
  },
  {
   "cell_type": "code",
   "execution_count": 26,
   "id": "d3481983",
   "metadata": {},
   "outputs": [
    {
     "name": "stdout",
     "output_type": "stream",
     "text": [
      "<class 'pandas.core.frame.DataFrame'>\n",
      "RangeIndex: 526917 entries, 0 to 526916\n",
      "Data columns (total 2 columns):\n",
      " #   Column  Non-Null Count   Dtype \n",
      "---  ------  --------------   ----- \n",
      " 0   id      526917 non-null  object\n",
      " 1   units   526917 non-null  int64 \n",
      "dtypes: int64(1), object(1)\n",
      "memory usage: 8.0+ MB\n"
     ]
    }
   ],
   "source": [
    "#загальна інформація\n",
    "sample_submission_data.info()"
   ]
  },
  {
   "cell_type": "code",
   "execution_count": 27,
   "id": "0cb09a92",
   "metadata": {},
   "outputs": [
    {
     "data": {
      "text/plain": "               date  store_nbr  item_nbr  units\n0        2012-01-01          1         1      0\n1        2012-01-01          1         2      0\n2        2012-01-01          1         3      0\n3        2012-01-01          1         4      0\n4        2012-01-01          1         5      0\n...             ...        ...       ...    ...\n3232315  2013-12-01         41       107      0\n3232316  2013-12-01         41       108      5\n3232317  2013-12-01         41       109      0\n3232318  2013-12-01         41       110      0\n3232319  2013-12-01         41       111      0\n\n[3232320 rows x 4 columns]",
      "text/html": "<div>\n<style scoped>\n    .dataframe tbody tr th:only-of-type {\n        vertical-align: middle;\n    }\n\n    .dataframe tbody tr th {\n        vertical-align: top;\n    }\n\n    .dataframe thead th {\n        text-align: right;\n    }\n</style>\n<table border=\"1\" class=\"dataframe\">\n  <thead>\n    <tr style=\"text-align: right;\">\n      <th></th>\n      <th>date</th>\n      <th>store_nbr</th>\n      <th>item_nbr</th>\n      <th>units</th>\n    </tr>\n  </thead>\n  <tbody>\n    <tr>\n      <th>0</th>\n      <td>2012-01-01</td>\n      <td>1</td>\n      <td>1</td>\n      <td>0</td>\n    </tr>\n    <tr>\n      <th>1</th>\n      <td>2012-01-01</td>\n      <td>1</td>\n      <td>2</td>\n      <td>0</td>\n    </tr>\n    <tr>\n      <th>2</th>\n      <td>2012-01-01</td>\n      <td>1</td>\n      <td>3</td>\n      <td>0</td>\n    </tr>\n    <tr>\n      <th>3</th>\n      <td>2012-01-01</td>\n      <td>1</td>\n      <td>4</td>\n      <td>0</td>\n    </tr>\n    <tr>\n      <th>4</th>\n      <td>2012-01-01</td>\n      <td>1</td>\n      <td>5</td>\n      <td>0</td>\n    </tr>\n    <tr>\n      <th>...</th>\n      <td>...</td>\n      <td>...</td>\n      <td>...</td>\n      <td>...</td>\n    </tr>\n    <tr>\n      <th>3232315</th>\n      <td>2013-12-01</td>\n      <td>41</td>\n      <td>107</td>\n      <td>0</td>\n    </tr>\n    <tr>\n      <th>3232316</th>\n      <td>2013-12-01</td>\n      <td>41</td>\n      <td>108</td>\n      <td>5</td>\n    </tr>\n    <tr>\n      <th>3232317</th>\n      <td>2013-12-01</td>\n      <td>41</td>\n      <td>109</td>\n      <td>0</td>\n    </tr>\n    <tr>\n      <th>3232318</th>\n      <td>2013-12-01</td>\n      <td>41</td>\n      <td>110</td>\n      <td>0</td>\n    </tr>\n    <tr>\n      <th>3232319</th>\n      <td>2013-12-01</td>\n      <td>41</td>\n      <td>111</td>\n      <td>0</td>\n    </tr>\n  </tbody>\n</table>\n<p>3232320 rows × 4 columns</p>\n</div>"
     },
     "execution_count": 27,
     "metadata": {},
     "output_type": "execute_result"
    }
   ],
   "source": [
    "#завантаження даних з файлу\n",
    "train_data_full=pd.read_csv('train.csv')\n",
    "# Вирахування кількості рядків для тестового набору даних (30%)\n",
    "train_size = int(0.3 * len(train_data_full))\n",
    "# Видалення останніх 30% даних з оригінального набору даних\n",
    "# dataframe.head(N) - повернути N перших записів. У даному випадку перших 70%.\n",
    "# Результат використовуються як аргумент для створення класу DataFrame, тому що без цієї дії на подальших етапах виникає помилка\n",
    "train_data = pd.DataFrame(train_data_full.head(len(train_data_full) - train_size))\n",
    "train_data"
   ]
  },
  {
   "cell_type": "code",
   "execution_count": 28,
   "id": "65b01e48",
   "metadata": {},
   "outputs": [
    {
     "name": "stdout",
     "output_type": "stream",
     "text": [
      "<class 'pandas.core.frame.DataFrame'>\n",
      "RangeIndex: 3232320 entries, 0 to 3232319\n",
      "Data columns (total 4 columns):\n",
      " #   Column     Dtype \n",
      "---  ------     ----- \n",
      " 0   date       object\n",
      " 1   store_nbr  int64 \n",
      " 2   item_nbr   int64 \n",
      " 3   units      int64 \n",
      "dtypes: int64(3), object(1)\n",
      "memory usage: 98.6+ MB\n"
     ]
    }
   ],
   "source": [
    "#загальна інформація\n",
    "train_data.info()"
   ]
  },
  {
   "cell_type": "code",
   "execution_count": 29,
   "id": "0a4832e9",
   "metadata": {},
   "outputs": [],
   "source": [
    "# Відокремлення останніх 30% даних у зміну test_df\n",
    "# dataframe.tail(N) - повернути N останніх записів датафрейму\n",
    "# Результат використовуються як аргумент для створення класу DataFrame, тому що без цієї дії на подальших етапах виникає помилка\n",
    "test_data=pd.DataFrame(train_data_full.tail(train_size))\n",
    "# Завантаження даних в файл\n",
    "test_data.to_csv('test.csv', index=False)"
   ]
  },
  {
   "cell_type": "code",
   "execution_count": 30,
   "id": "3f1933ed",
   "metadata": {},
   "outputs": [
    {
     "data": {
      "text/plain": "               date  store_nbr  item_nbr  units\n3232320  2013-12-01         42         1      0\n3232321  2013-12-01         42         2      0\n3232322  2013-12-01         42         3      0\n3232323  2013-12-01         42         4      0\n3232324  2013-12-01         42         5     55\n...             ...        ...       ...    ...\n4617595  2014-10-31         45       107      0\n4617596  2014-10-31         45       108      0\n4617597  2014-10-31         45       109      0\n4617598  2014-10-31         45       110      0\n4617599  2014-10-31         45       111      0\n\n[1385280 rows x 4 columns]",
      "text/html": "<div>\n<style scoped>\n    .dataframe tbody tr th:only-of-type {\n        vertical-align: middle;\n    }\n\n    .dataframe tbody tr th {\n        vertical-align: top;\n    }\n\n    .dataframe thead th {\n        text-align: right;\n    }\n</style>\n<table border=\"1\" class=\"dataframe\">\n  <thead>\n    <tr style=\"text-align: right;\">\n      <th></th>\n      <th>date</th>\n      <th>store_nbr</th>\n      <th>item_nbr</th>\n      <th>units</th>\n    </tr>\n  </thead>\n  <tbody>\n    <tr>\n      <th>3232320</th>\n      <td>2013-12-01</td>\n      <td>42</td>\n      <td>1</td>\n      <td>0</td>\n    </tr>\n    <tr>\n      <th>3232321</th>\n      <td>2013-12-01</td>\n      <td>42</td>\n      <td>2</td>\n      <td>0</td>\n    </tr>\n    <tr>\n      <th>3232322</th>\n      <td>2013-12-01</td>\n      <td>42</td>\n      <td>3</td>\n      <td>0</td>\n    </tr>\n    <tr>\n      <th>3232323</th>\n      <td>2013-12-01</td>\n      <td>42</td>\n      <td>4</td>\n      <td>0</td>\n    </tr>\n    <tr>\n      <th>3232324</th>\n      <td>2013-12-01</td>\n      <td>42</td>\n      <td>5</td>\n      <td>55</td>\n    </tr>\n    <tr>\n      <th>...</th>\n      <td>...</td>\n      <td>...</td>\n      <td>...</td>\n      <td>...</td>\n    </tr>\n    <tr>\n      <th>4617595</th>\n      <td>2014-10-31</td>\n      <td>45</td>\n      <td>107</td>\n      <td>0</td>\n    </tr>\n    <tr>\n      <th>4617596</th>\n      <td>2014-10-31</td>\n      <td>45</td>\n      <td>108</td>\n      <td>0</td>\n    </tr>\n    <tr>\n      <th>4617597</th>\n      <td>2014-10-31</td>\n      <td>45</td>\n      <td>109</td>\n      <td>0</td>\n    </tr>\n    <tr>\n      <th>4617598</th>\n      <td>2014-10-31</td>\n      <td>45</td>\n      <td>110</td>\n      <td>0</td>\n    </tr>\n    <tr>\n      <th>4617599</th>\n      <td>2014-10-31</td>\n      <td>45</td>\n      <td>111</td>\n      <td>0</td>\n    </tr>\n  </tbody>\n</table>\n<p>1385280 rows × 4 columns</p>\n</div>"
     },
     "execution_count": 30,
     "metadata": {},
     "output_type": "execute_result"
    }
   ],
   "source": [
    "test_data"
   ]
  },
  {
   "cell_type": "markdown",
   "source": [
    "Тепер у нас є набір тренувальних даних train_data, у якого 3.2 млн. записів та тестувальний набір з 1.3 млн. записів"
   ],
   "metadata": {
    "collapsed": false
   }
  },
  {
   "cell_type": "code",
   "execution_count": 31,
   "id": "729c674d",
   "metadata": {},
   "outputs": [
    {
     "name": "stdout",
     "output_type": "stream",
     "text": [
      "<class 'pandas.core.frame.DataFrame'>\n",
      "RangeIndex: 1385280 entries, 3232320 to 4617599\n",
      "Data columns (total 4 columns):\n",
      " #   Column     Non-Null Count    Dtype \n",
      "---  ------     --------------    ----- \n",
      " 0   date       1385280 non-null  object\n",
      " 1   store_nbr  1385280 non-null  int64 \n",
      " 2   item_nbr   1385280 non-null  int64 \n",
      " 3   units      1385280 non-null  int64 \n",
      "dtypes: int64(3), object(1)\n",
      "memory usage: 42.3+ MB\n"
     ]
    }
   ],
   "source": [
    "#загальна інформація\n",
    "test_data.info()"
   ]
  },
  {
   "cell_type": "code",
   "execution_count": 32,
   "id": "caa337a6",
   "metadata": {},
   "outputs": [
    {
     "data": {
      "text/plain": "       station_nbr        date tmax tmin tavg depart dewpoint wetbulb heat  \\\n0                1  2012-01-01   52   31   42      M       36      40   23   \n1                2  2012-01-01   48   33   41     16       37      39   24   \n2                3  2012-01-01   55   34   45      9       24      36   20   \n3                4  2012-01-01   63   47   55      4       28      43   10   \n4                6  2012-01-01   63   34   49      0       31      43   16   \n...            ...         ...  ...  ...  ...    ...      ...     ...  ...   \n20512           16  2014-10-31   53   34   44      M       35      41   21   \n20513           17  2014-10-31   59   34   47      M       32      41   18   \n20514           18  2014-10-31   67   49   58     -4       40      50    7   \n20515           19  2014-10-31   45   33   39     -6       24      32   26   \n20516           20  2014-10-31   68   50   59      M       39      50    6   \n\n      cool sunrise sunset     codesum snowfall preciptotal stnpressure  \\\n0        0       -      -  RA FZFG BR        M        0.05       29.78   \n1        0    0716   1626          RA      0.0        0.07       28.82   \n2        0    0735   1720                  0.0        0.00       29.77   \n3        0    0728   1742                  0.0        0.00       29.79   \n4        0    0727   1742                  0.0        0.00       29.95   \n...    ...     ...    ...         ...      ...         ...         ...   \n20512    0       -      -                    M        0.00       29.90   \n20513    0       -      -          RA      0.0        0.00       29.72   \n20514    0    0644   1738                  0.0        0.00       29.78   \n20515    0    0624   1646       RA SN      0.1        0.02       29.51   \n20516    0       -      -                  0.0        0.00       29.57   \n\n      sealevel resultspeed resultdir avgspeed  \n0        29.92         3.6        20      4.6  \n1        29.91         9.1        23     11.3  \n2        30.47         9.9        31     10.0  \n3        30.48         8.0        35      8.2  \n4        30.47        14.0        36     13.8  \n...        ...         ...       ...      ...  \n20512    29.99         4.5        03      5.3  \n20513    30.39         9.2        01      9.3  \n20514    30.28        10.6        36     11.2  \n20515    30.24        20.4        34     20.9  \n20516    30.27        10.5        36     11.2  \n\n[20517 rows x 20 columns]",
      "text/html": "<div>\n<style scoped>\n    .dataframe tbody tr th:only-of-type {\n        vertical-align: middle;\n    }\n\n    .dataframe tbody tr th {\n        vertical-align: top;\n    }\n\n    .dataframe thead th {\n        text-align: right;\n    }\n</style>\n<table border=\"1\" class=\"dataframe\">\n  <thead>\n    <tr style=\"text-align: right;\">\n      <th></th>\n      <th>station_nbr</th>\n      <th>date</th>\n      <th>tmax</th>\n      <th>tmin</th>\n      <th>tavg</th>\n      <th>depart</th>\n      <th>dewpoint</th>\n      <th>wetbulb</th>\n      <th>heat</th>\n      <th>cool</th>\n      <th>sunrise</th>\n      <th>sunset</th>\n      <th>codesum</th>\n      <th>snowfall</th>\n      <th>preciptotal</th>\n      <th>stnpressure</th>\n      <th>sealevel</th>\n      <th>resultspeed</th>\n      <th>resultdir</th>\n      <th>avgspeed</th>\n    </tr>\n  </thead>\n  <tbody>\n    <tr>\n      <th>0</th>\n      <td>1</td>\n      <td>2012-01-01</td>\n      <td>52</td>\n      <td>31</td>\n      <td>42</td>\n      <td>M</td>\n      <td>36</td>\n      <td>40</td>\n      <td>23</td>\n      <td>0</td>\n      <td>-</td>\n      <td>-</td>\n      <td>RA FZFG BR</td>\n      <td>M</td>\n      <td>0.05</td>\n      <td>29.78</td>\n      <td>29.92</td>\n      <td>3.6</td>\n      <td>20</td>\n      <td>4.6</td>\n    </tr>\n    <tr>\n      <th>1</th>\n      <td>2</td>\n      <td>2012-01-01</td>\n      <td>48</td>\n      <td>33</td>\n      <td>41</td>\n      <td>16</td>\n      <td>37</td>\n      <td>39</td>\n      <td>24</td>\n      <td>0</td>\n      <td>0716</td>\n      <td>1626</td>\n      <td>RA</td>\n      <td>0.0</td>\n      <td>0.07</td>\n      <td>28.82</td>\n      <td>29.91</td>\n      <td>9.1</td>\n      <td>23</td>\n      <td>11.3</td>\n    </tr>\n    <tr>\n      <th>2</th>\n      <td>3</td>\n      <td>2012-01-01</td>\n      <td>55</td>\n      <td>34</td>\n      <td>45</td>\n      <td>9</td>\n      <td>24</td>\n      <td>36</td>\n      <td>20</td>\n      <td>0</td>\n      <td>0735</td>\n      <td>1720</td>\n      <td></td>\n      <td>0.0</td>\n      <td>0.00</td>\n      <td>29.77</td>\n      <td>30.47</td>\n      <td>9.9</td>\n      <td>31</td>\n      <td>10.0</td>\n    </tr>\n    <tr>\n      <th>3</th>\n      <td>4</td>\n      <td>2012-01-01</td>\n      <td>63</td>\n      <td>47</td>\n      <td>55</td>\n      <td>4</td>\n      <td>28</td>\n      <td>43</td>\n      <td>10</td>\n      <td>0</td>\n      <td>0728</td>\n      <td>1742</td>\n      <td></td>\n      <td>0.0</td>\n      <td>0.00</td>\n      <td>29.79</td>\n      <td>30.48</td>\n      <td>8.0</td>\n      <td>35</td>\n      <td>8.2</td>\n    </tr>\n    <tr>\n      <th>4</th>\n      <td>6</td>\n      <td>2012-01-01</td>\n      <td>63</td>\n      <td>34</td>\n      <td>49</td>\n      <td>0</td>\n      <td>31</td>\n      <td>43</td>\n      <td>16</td>\n      <td>0</td>\n      <td>0727</td>\n      <td>1742</td>\n      <td></td>\n      <td>0.0</td>\n      <td>0.00</td>\n      <td>29.95</td>\n      <td>30.47</td>\n      <td>14.0</td>\n      <td>36</td>\n      <td>13.8</td>\n    </tr>\n    <tr>\n      <th>...</th>\n      <td>...</td>\n      <td>...</td>\n      <td>...</td>\n      <td>...</td>\n      <td>...</td>\n      <td>...</td>\n      <td>...</td>\n      <td>...</td>\n      <td>...</td>\n      <td>...</td>\n      <td>...</td>\n      <td>...</td>\n      <td>...</td>\n      <td>...</td>\n      <td>...</td>\n      <td>...</td>\n      <td>...</td>\n      <td>...</td>\n      <td>...</td>\n      <td>...</td>\n    </tr>\n    <tr>\n      <th>20512</th>\n      <td>16</td>\n      <td>2014-10-31</td>\n      <td>53</td>\n      <td>34</td>\n      <td>44</td>\n      <td>M</td>\n      <td>35</td>\n      <td>41</td>\n      <td>21</td>\n      <td>0</td>\n      <td>-</td>\n      <td>-</td>\n      <td></td>\n      <td>M</td>\n      <td>0.00</td>\n      <td>29.90</td>\n      <td>29.99</td>\n      <td>4.5</td>\n      <td>03</td>\n      <td>5.3</td>\n    </tr>\n    <tr>\n      <th>20513</th>\n      <td>17</td>\n      <td>2014-10-31</td>\n      <td>59</td>\n      <td>34</td>\n      <td>47</td>\n      <td>M</td>\n      <td>32</td>\n      <td>41</td>\n      <td>18</td>\n      <td>0</td>\n      <td>-</td>\n      <td>-</td>\n      <td>RA</td>\n      <td>0.0</td>\n      <td>0.00</td>\n      <td>29.72</td>\n      <td>30.39</td>\n      <td>9.2</td>\n      <td>01</td>\n      <td>9.3</td>\n    </tr>\n    <tr>\n      <th>20514</th>\n      <td>18</td>\n      <td>2014-10-31</td>\n      <td>67</td>\n      <td>49</td>\n      <td>58</td>\n      <td>-4</td>\n      <td>40</td>\n      <td>50</td>\n      <td>7</td>\n      <td>0</td>\n      <td>0644</td>\n      <td>1738</td>\n      <td></td>\n      <td>0.0</td>\n      <td>0.00</td>\n      <td>29.78</td>\n      <td>30.28</td>\n      <td>10.6</td>\n      <td>36</td>\n      <td>11.2</td>\n    </tr>\n    <tr>\n      <th>20515</th>\n      <td>19</td>\n      <td>2014-10-31</td>\n      <td>45</td>\n      <td>33</td>\n      <td>39</td>\n      <td>-6</td>\n      <td>24</td>\n      <td>32</td>\n      <td>26</td>\n      <td>0</td>\n      <td>0624</td>\n      <td>1646</td>\n      <td>RA SN</td>\n      <td>0.1</td>\n      <td>0.02</td>\n      <td>29.51</td>\n      <td>30.24</td>\n      <td>20.4</td>\n      <td>34</td>\n      <td>20.9</td>\n    </tr>\n    <tr>\n      <th>20516</th>\n      <td>20</td>\n      <td>2014-10-31</td>\n      <td>68</td>\n      <td>50</td>\n      <td>59</td>\n      <td>M</td>\n      <td>39</td>\n      <td>50</td>\n      <td>6</td>\n      <td>0</td>\n      <td>-</td>\n      <td>-</td>\n      <td></td>\n      <td>0.0</td>\n      <td>0.00</td>\n      <td>29.57</td>\n      <td>30.27</td>\n      <td>10.5</td>\n      <td>36</td>\n      <td>11.2</td>\n    </tr>\n  </tbody>\n</table>\n<p>20517 rows × 20 columns</p>\n</div>"
     },
     "execution_count": 32,
     "metadata": {},
     "output_type": "execute_result"
    }
   ],
   "source": [
    "#завантаження даних з файлу\n",
    "weather_data=pd.read_csv('weather.csv')\n",
    "weather_data"
   ]
  },
  {
   "cell_type": "code",
   "execution_count": 33,
   "id": "858ef45f",
   "metadata": {},
   "outputs": [
    {
     "name": "stdout",
     "output_type": "stream",
     "text": [
      "<class 'pandas.core.frame.DataFrame'>\n",
      "RangeIndex: 20517 entries, 0 to 20516\n",
      "Data columns (total 20 columns):\n",
      " #   Column       Non-Null Count  Dtype \n",
      "---  ------       --------------  ----- \n",
      " 0   station_nbr  20517 non-null  int64 \n",
      " 1   date         20517 non-null  object\n",
      " 2   tmax         20517 non-null  object\n",
      " 3   tmin         20517 non-null  object\n",
      " 4   tavg         20517 non-null  object\n",
      " 5   depart       20517 non-null  object\n",
      " 6   dewpoint     20517 non-null  object\n",
      " 7   wetbulb      20517 non-null  object\n",
      " 8   heat         20517 non-null  object\n",
      " 9   cool         20517 non-null  object\n",
      " 10  sunrise      20517 non-null  object\n",
      " 11  sunset       20517 non-null  object\n",
      " 12  codesum      20517 non-null  object\n",
      " 13  snowfall     20517 non-null  object\n",
      " 14  preciptotal  20517 non-null  object\n",
      " 15  stnpressure  20517 non-null  object\n",
      " 16  sealevel     20517 non-null  object\n",
      " 17  resultspeed  20517 non-null  object\n",
      " 18  resultdir    20517 non-null  object\n",
      " 19  avgspeed     20517 non-null  object\n",
      "dtypes: int64(1), object(19)\n",
      "memory usage: 3.1+ MB\n"
     ]
    }
   ],
   "source": [
    "#загальна інформація\n",
    "weather_data.info()"
   ]
  },
  {
   "cell_type": "code",
   "execution_count": 34,
   "id": "ef5d33bf",
   "metadata": {},
   "outputs": [],
   "source": [
    "# переведення даних в чило крім date та codesum\n",
    "# Якщо перебирати DataFrame циклом, то будуть перебиратись його колонки.\n",
    "# Якщо назва колонки не 'date' і не 'codesum' то всі значення перетворюються у число\n",
    "for i in weather_data:\n",
    "    if (i!='date' and i!='codesum'):\n",
    "        weather_data[i] = pd.to_numeric(weather_data[i], errors='coerce')"
   ]
  },
  {
   "cell_type": "code",
   "execution_count": 35,
   "id": "0c2ba50a",
   "metadata": {},
   "outputs": [],
   "source": [
    "# Обробка дати\n",
    "# Перетворення значень колонки 'date' у всих DataFrame з str типу у тип Datetime (базовий тип роботи з датою у пайтоні)\n",
    "train_data['date'] = pd.to_datetime(train_data['date'])\n",
    "test_data['date'] = pd.to_datetime(test_data['date'])\n",
    "weather_data['date'] = pd.to_datetime(weather_data['date'])"
   ]
  },
  {
   "cell_type": "code",
   "execution_count": 36,
   "id": "68b1067c",
   "metadata": {},
   "outputs": [
    {
     "name": "stdout",
     "output_type": "stream",
     "text": [
      "<class 'pandas.core.frame.DataFrame'>\n",
      "RangeIndex: 20517 entries, 0 to 20516\n",
      "Data columns (total 20 columns):\n",
      " #   Column       Non-Null Count  Dtype         \n",
      "---  ------       --------------  -----         \n",
      " 0   station_nbr  20517 non-null  int64         \n",
      " 1   date         20517 non-null  datetime64[ns]\n",
      " 2   tmax         19611 non-null  float64       \n",
      " 3   tmin         19609 non-null  float64       \n",
      " 4   tavg         19048 non-null  float64       \n",
      " 5   depart       9006 non-null   float64       \n",
      " 6   dewpoint     19851 non-null  float64       \n",
      " 7   wetbulb      19265 non-null  float64       \n",
      " 8   heat         19048 non-null  float64       \n",
      " 9   cool         19048 non-null  float64       \n",
      " 10  sunrise      10861 non-null  float64       \n",
      " 11  sunset       10861 non-null  float64       \n",
      " 12  codesum      20517 non-null  object        \n",
      " 13  snowfall     12982 non-null  float64       \n",
      " 14  preciptotal  17247 non-null  float64       \n",
      " 15  stnpressure  19588 non-null  float64       \n",
      " 16  sealevel     18793 non-null  float64       \n",
      " 17  resultspeed  19928 non-null  float64       \n",
      " 18  resultdir    19928 non-null  float64       \n",
      " 19  avgspeed     19642 non-null  float64       \n",
      "dtypes: datetime64[ns](1), float64(17), int64(1), object(1)\n",
      "memory usage: 3.1+ MB\n"
     ]
    }
   ],
   "source": [
    "# перевіряєм тип даних\n",
    "weather_data.info()"
   ]
  },
  {
   "cell_type": "code",
   "execution_count": 37,
   "id": "bf8ba84c",
   "metadata": {
    "scrolled": true
   },
   "outputs": [
    {
     "data": {
      "text/plain": "        station_nbr                           date          tmax  \\\ncount  20517.000000                          20517  19611.000000   \nmean      10.549057  2013-06-04 03:44:39.865477376     71.621131   \nmin        1.000000            2012-01-01 00:00:00    -11.000000   \n25%        6.000000            2012-09-21 00:00:00     59.000000   \n50%       11.000000            2013-06-04 00:00:00     76.000000   \n75%       16.000000            2014-02-17 00:00:00     87.000000   \nmax       20.000000            2014-10-31 00:00:00    114.000000   \nstd        5.768533                            NaN     19.847451   \n\n               tmin          tavg       depart      dewpoint       wetbulb  \\\ncount  19609.000000  19048.000000  9006.000000  19851.000000  19265.000000   \nmean      50.654546     61.240130     1.363091     47.270918     53.888243   \nmin      -21.000000    -16.000000   -35.000000    -24.000000    -15.000000   \n25%       37.000000     48.000000    -3.000000     33.000000     42.000000   \n50%       53.000000     65.000000     2.000000     51.000000     57.000000   \n75%       67.000000     77.000000     6.000000     64.000000     68.000000   \nmax       88.000000    100.000000    33.000000     77.000000     80.000000   \nstd       19.139055     19.194357     7.646759     19.400495     17.017772   \n\n               heat          cool       sunrise        sunset      snowfall  \\\ncount  19048.000000  19048.000000  10861.000000  10861.000000  12982.000000   \nmean       9.704536      5.944666    585.038578   1823.387073      0.044908   \nmin        0.000000      0.000000    406.000000   1611.000000      0.000000   \n25%        0.000000      0.000000    527.000000   1745.000000      0.000000   \n50%        0.000000      0.000000    602.000000   1833.000000      0.000000   \n75%       17.000000     12.000000    646.000000   1915.000000      0.000000   \nmax       81.000000     35.000000    740.000000   1949.000000     16.200000   \nstd       13.843873      7.834796     90.916758     92.148402      0.505575   \n\n        preciptotal   stnpressure      sealevel   resultspeed     resultdir  \\\ncount  17247.000000  19588.000000  18793.000000  19928.000000  19928.000000   \nmean       0.114701     29.162770     30.009160      6.468326     18.729928   \nmin        0.000000     23.720000     29.160000      0.000000      1.000000   \n25%        0.000000     29.110000     29.890000      3.200000     13.000000   \n50%        0.000000     29.410000     30.000000      5.700000     18.000000   \n75%        0.020000     29.780000     30.130000      8.900000     26.000000   \nmax        7.360000     30.610000     30.800000     28.400000     36.000000   \nstd        0.364776      1.245414      0.191134      4.192577      9.675662   \n\n           avgspeed  \ncount  19642.000000  \nmean       7.914077  \nmin        0.000000  \n25%        5.100000  \n50%        7.300000  \n75%       10.100000  \nmax       28.700000  \nstd        3.933458  ",
      "text/html": "<div>\n<style scoped>\n    .dataframe tbody tr th:only-of-type {\n        vertical-align: middle;\n    }\n\n    .dataframe tbody tr th {\n        vertical-align: top;\n    }\n\n    .dataframe thead th {\n        text-align: right;\n    }\n</style>\n<table border=\"1\" class=\"dataframe\">\n  <thead>\n    <tr style=\"text-align: right;\">\n      <th></th>\n      <th>station_nbr</th>\n      <th>date</th>\n      <th>tmax</th>\n      <th>tmin</th>\n      <th>tavg</th>\n      <th>depart</th>\n      <th>dewpoint</th>\n      <th>wetbulb</th>\n      <th>heat</th>\n      <th>cool</th>\n      <th>sunrise</th>\n      <th>sunset</th>\n      <th>snowfall</th>\n      <th>preciptotal</th>\n      <th>stnpressure</th>\n      <th>sealevel</th>\n      <th>resultspeed</th>\n      <th>resultdir</th>\n      <th>avgspeed</th>\n    </tr>\n  </thead>\n  <tbody>\n    <tr>\n      <th>count</th>\n      <td>20517.000000</td>\n      <td>20517</td>\n      <td>19611.000000</td>\n      <td>19609.000000</td>\n      <td>19048.000000</td>\n      <td>9006.000000</td>\n      <td>19851.000000</td>\n      <td>19265.000000</td>\n      <td>19048.000000</td>\n      <td>19048.000000</td>\n      <td>10861.000000</td>\n      <td>10861.000000</td>\n      <td>12982.000000</td>\n      <td>17247.000000</td>\n      <td>19588.000000</td>\n      <td>18793.000000</td>\n      <td>19928.000000</td>\n      <td>19928.000000</td>\n      <td>19642.000000</td>\n    </tr>\n    <tr>\n      <th>mean</th>\n      <td>10.549057</td>\n      <td>2013-06-04 03:44:39.865477376</td>\n      <td>71.621131</td>\n      <td>50.654546</td>\n      <td>61.240130</td>\n      <td>1.363091</td>\n      <td>47.270918</td>\n      <td>53.888243</td>\n      <td>9.704536</td>\n      <td>5.944666</td>\n      <td>585.038578</td>\n      <td>1823.387073</td>\n      <td>0.044908</td>\n      <td>0.114701</td>\n      <td>29.162770</td>\n      <td>30.009160</td>\n      <td>6.468326</td>\n      <td>18.729928</td>\n      <td>7.914077</td>\n    </tr>\n    <tr>\n      <th>min</th>\n      <td>1.000000</td>\n      <td>2012-01-01 00:00:00</td>\n      <td>-11.000000</td>\n      <td>-21.000000</td>\n      <td>-16.000000</td>\n      <td>-35.000000</td>\n      <td>-24.000000</td>\n      <td>-15.000000</td>\n      <td>0.000000</td>\n      <td>0.000000</td>\n      <td>406.000000</td>\n      <td>1611.000000</td>\n      <td>0.000000</td>\n      <td>0.000000</td>\n      <td>23.720000</td>\n      <td>29.160000</td>\n      <td>0.000000</td>\n      <td>1.000000</td>\n      <td>0.000000</td>\n    </tr>\n    <tr>\n      <th>25%</th>\n      <td>6.000000</td>\n      <td>2012-09-21 00:00:00</td>\n      <td>59.000000</td>\n      <td>37.000000</td>\n      <td>48.000000</td>\n      <td>-3.000000</td>\n      <td>33.000000</td>\n      <td>42.000000</td>\n      <td>0.000000</td>\n      <td>0.000000</td>\n      <td>527.000000</td>\n      <td>1745.000000</td>\n      <td>0.000000</td>\n      <td>0.000000</td>\n      <td>29.110000</td>\n      <td>29.890000</td>\n      <td>3.200000</td>\n      <td>13.000000</td>\n      <td>5.100000</td>\n    </tr>\n    <tr>\n      <th>50%</th>\n      <td>11.000000</td>\n      <td>2013-06-04 00:00:00</td>\n      <td>76.000000</td>\n      <td>53.000000</td>\n      <td>65.000000</td>\n      <td>2.000000</td>\n      <td>51.000000</td>\n      <td>57.000000</td>\n      <td>0.000000</td>\n      <td>0.000000</td>\n      <td>602.000000</td>\n      <td>1833.000000</td>\n      <td>0.000000</td>\n      <td>0.000000</td>\n      <td>29.410000</td>\n      <td>30.000000</td>\n      <td>5.700000</td>\n      <td>18.000000</td>\n      <td>7.300000</td>\n    </tr>\n    <tr>\n      <th>75%</th>\n      <td>16.000000</td>\n      <td>2014-02-17 00:00:00</td>\n      <td>87.000000</td>\n      <td>67.000000</td>\n      <td>77.000000</td>\n      <td>6.000000</td>\n      <td>64.000000</td>\n      <td>68.000000</td>\n      <td>17.000000</td>\n      <td>12.000000</td>\n      <td>646.000000</td>\n      <td>1915.000000</td>\n      <td>0.000000</td>\n      <td>0.020000</td>\n      <td>29.780000</td>\n      <td>30.130000</td>\n      <td>8.900000</td>\n      <td>26.000000</td>\n      <td>10.100000</td>\n    </tr>\n    <tr>\n      <th>max</th>\n      <td>20.000000</td>\n      <td>2014-10-31 00:00:00</td>\n      <td>114.000000</td>\n      <td>88.000000</td>\n      <td>100.000000</td>\n      <td>33.000000</td>\n      <td>77.000000</td>\n      <td>80.000000</td>\n      <td>81.000000</td>\n      <td>35.000000</td>\n      <td>740.000000</td>\n      <td>1949.000000</td>\n      <td>16.200000</td>\n      <td>7.360000</td>\n      <td>30.610000</td>\n      <td>30.800000</td>\n      <td>28.400000</td>\n      <td>36.000000</td>\n      <td>28.700000</td>\n    </tr>\n    <tr>\n      <th>std</th>\n      <td>5.768533</td>\n      <td>NaN</td>\n      <td>19.847451</td>\n      <td>19.139055</td>\n      <td>19.194357</td>\n      <td>7.646759</td>\n      <td>19.400495</td>\n      <td>17.017772</td>\n      <td>13.843873</td>\n      <td>7.834796</td>\n      <td>90.916758</td>\n      <td>92.148402</td>\n      <td>0.505575</td>\n      <td>0.364776</td>\n      <td>1.245414</td>\n      <td>0.191134</td>\n      <td>4.192577</td>\n      <td>9.675662</td>\n      <td>3.933458</td>\n    </tr>\n  </tbody>\n</table>\n</div>"
     },
     "execution_count": 37,
     "metadata": {},
     "output_type": "execute_result"
    }
   ],
   "source": [
    "#статистичні характеристики числових стовпців\n",
    "# Із документації pandas.describe():\n",
    "# Описова статистика включає статистику, яка підсумовує центральну тенденцію, дисперсію та форму розподілу набору даних, за винятком NaNзначень.\n",
    "#\n",
    "# Список рядків:\n",
    "# DataFrame.count\n",
    "# Count number of non-NA/null observations.\n",
    "#\n",
    "# DataFrame.max\n",
    "# Maximum of the values in the object.\n",
    "#\n",
    "# DataFrame.min\n",
    "# Minimum of the values in the object.\n",
    "#\n",
    "# DataFrame.mean\n",
    "# Mean of the values.\n",
    "#\n",
    "# DataFrame.std\n",
    "# Standard deviation of the observations.\n",
    "#\n",
    "# DataFrame.select_dtypes\n",
    "# Subset of a DataFrame including/excluding columns based on their dtype.\n",
    "#\n",
    "# По факту, корисної інформації в даному випадку ми не отримуємо, просто статистичні дані\n",
    "weather_data.describe()"
   ]
  },
  {
   "cell_type": "code",
   "execution_count": 38,
   "id": "8d71bcf3",
   "metadata": {},
   "outputs": [
    {
     "data": {
      "text/plain": "       station_nbr       date     codesum  preciptotal\n0                1 2012-01-01  RA FZFG BR         0.05\n1                2 2012-01-01          RA         0.07\n2                3 2012-01-01                     0.00\n3                4 2012-01-01                     0.00\n4                6 2012-01-01                     0.00\n...            ...        ...         ...          ...\n20512           16 2014-10-31                     0.00\n20513           17 2014-10-31          RA         0.00\n20514           18 2014-10-31                     0.00\n20515           19 2014-10-31       RA SN         0.02\n20516           20 2014-10-31                     0.00\n\n[20517 rows x 4 columns]",
      "text/html": "<div>\n<style scoped>\n    .dataframe tbody tr th:only-of-type {\n        vertical-align: middle;\n    }\n\n    .dataframe tbody tr th {\n        vertical-align: top;\n    }\n\n    .dataframe thead th {\n        text-align: right;\n    }\n</style>\n<table border=\"1\" class=\"dataframe\">\n  <thead>\n    <tr style=\"text-align: right;\">\n      <th></th>\n      <th>station_nbr</th>\n      <th>date</th>\n      <th>codesum</th>\n      <th>preciptotal</th>\n    </tr>\n  </thead>\n  <tbody>\n    <tr>\n      <th>0</th>\n      <td>1</td>\n      <td>2012-01-01</td>\n      <td>RA FZFG BR</td>\n      <td>0.05</td>\n    </tr>\n    <tr>\n      <th>1</th>\n      <td>2</td>\n      <td>2012-01-01</td>\n      <td>RA</td>\n      <td>0.07</td>\n    </tr>\n    <tr>\n      <th>2</th>\n      <td>3</td>\n      <td>2012-01-01</td>\n      <td></td>\n      <td>0.00</td>\n    </tr>\n    <tr>\n      <th>3</th>\n      <td>4</td>\n      <td>2012-01-01</td>\n      <td></td>\n      <td>0.00</td>\n    </tr>\n    <tr>\n      <th>4</th>\n      <td>6</td>\n      <td>2012-01-01</td>\n      <td></td>\n      <td>0.00</td>\n    </tr>\n    <tr>\n      <th>...</th>\n      <td>...</td>\n      <td>...</td>\n      <td>...</td>\n      <td>...</td>\n    </tr>\n    <tr>\n      <th>20512</th>\n      <td>16</td>\n      <td>2014-10-31</td>\n      <td></td>\n      <td>0.00</td>\n    </tr>\n    <tr>\n      <th>20513</th>\n      <td>17</td>\n      <td>2014-10-31</td>\n      <td>RA</td>\n      <td>0.00</td>\n    </tr>\n    <tr>\n      <th>20514</th>\n      <td>18</td>\n      <td>2014-10-31</td>\n      <td></td>\n      <td>0.00</td>\n    </tr>\n    <tr>\n      <th>20515</th>\n      <td>19</td>\n      <td>2014-10-31</td>\n      <td>RA SN</td>\n      <td>0.02</td>\n    </tr>\n    <tr>\n      <th>20516</th>\n      <td>20</td>\n      <td>2014-10-31</td>\n      <td></td>\n      <td>0.00</td>\n    </tr>\n  </tbody>\n</table>\n<p>20517 rows × 4 columns</p>\n</div>"
     },
     "execution_count": 38,
     "metadata": {},
     "output_type": "execute_result"
    }
   ],
   "source": [
    "# обираємо потрібні стовпці для аналізу\n",
    "# Обрізка всих інших колонок, які не входять у список\n",
    "new_weather_data = weather_data.loc[:, ['station_nbr', 'date', 'codesum', 'preciptotal']]\n",
    "new_weather_data"
   ]
  },
  {
   "cell_type": "code",
   "execution_count": 39,
   "id": "2cc17e0b",
   "metadata": {},
   "outputs": [],
   "source": [
    "# Об'єднання даних для побудови моделі\n",
    "# З'єднуємо train_data з key_data через стовпці store_nbr\n",
    "# pd.merge(df1, df2, on=\"\") - об'єднати два DataFrame по колонці on\n",
    "# В результаті, у train_data та test_data добавилась колонка station_nbr (id метеостанції)\n",
    "train_merged = pd.merge(train_data, key_data, on='store_nbr')\n",
    "test_merged = pd.merge(test_data, key_data, on='store_nbr')"
   ]
  },
  {
   "cell_type": "code",
   "execution_count": 40,
   "outputs": [
    {
     "data": {
      "text/plain": "              date  store_nbr  item_nbr  units  station_nbr\n0       2012-01-01          1         1      0            1\n1       2012-01-01          1         2      0            1\n2       2012-01-01          1         3      0            1\n3       2012-01-01          1         4      0            1\n4       2012-01-01          1         5      0            1\n...            ...        ...       ...    ...          ...\n3232315 2013-12-01         35       107      0            5\n3232316 2013-12-01         35       108      0            5\n3232317 2013-12-01         35       109      0            5\n3232318 2013-12-01         35       110      0            5\n3232319 2013-12-01         35       111      0            5\n\n[3232320 rows x 5 columns]",
      "text/html": "<div>\n<style scoped>\n    .dataframe tbody tr th:only-of-type {\n        vertical-align: middle;\n    }\n\n    .dataframe tbody tr th {\n        vertical-align: top;\n    }\n\n    .dataframe thead th {\n        text-align: right;\n    }\n</style>\n<table border=\"1\" class=\"dataframe\">\n  <thead>\n    <tr style=\"text-align: right;\">\n      <th></th>\n      <th>date</th>\n      <th>store_nbr</th>\n      <th>item_nbr</th>\n      <th>units</th>\n      <th>station_nbr</th>\n    </tr>\n  </thead>\n  <tbody>\n    <tr>\n      <th>0</th>\n      <td>2012-01-01</td>\n      <td>1</td>\n      <td>1</td>\n      <td>0</td>\n      <td>1</td>\n    </tr>\n    <tr>\n      <th>1</th>\n      <td>2012-01-01</td>\n      <td>1</td>\n      <td>2</td>\n      <td>0</td>\n      <td>1</td>\n    </tr>\n    <tr>\n      <th>2</th>\n      <td>2012-01-01</td>\n      <td>1</td>\n      <td>3</td>\n      <td>0</td>\n      <td>1</td>\n    </tr>\n    <tr>\n      <th>3</th>\n      <td>2012-01-01</td>\n      <td>1</td>\n      <td>4</td>\n      <td>0</td>\n      <td>1</td>\n    </tr>\n    <tr>\n      <th>4</th>\n      <td>2012-01-01</td>\n      <td>1</td>\n      <td>5</td>\n      <td>0</td>\n      <td>1</td>\n    </tr>\n    <tr>\n      <th>...</th>\n      <td>...</td>\n      <td>...</td>\n      <td>...</td>\n      <td>...</td>\n      <td>...</td>\n    </tr>\n    <tr>\n      <th>3232315</th>\n      <td>2013-12-01</td>\n      <td>35</td>\n      <td>107</td>\n      <td>0</td>\n      <td>5</td>\n    </tr>\n    <tr>\n      <th>3232316</th>\n      <td>2013-12-01</td>\n      <td>35</td>\n      <td>108</td>\n      <td>0</td>\n      <td>5</td>\n    </tr>\n    <tr>\n      <th>3232317</th>\n      <td>2013-12-01</td>\n      <td>35</td>\n      <td>109</td>\n      <td>0</td>\n      <td>5</td>\n    </tr>\n    <tr>\n      <th>3232318</th>\n      <td>2013-12-01</td>\n      <td>35</td>\n      <td>110</td>\n      <td>0</td>\n      <td>5</td>\n    </tr>\n    <tr>\n      <th>3232319</th>\n      <td>2013-12-01</td>\n      <td>35</td>\n      <td>111</td>\n      <td>0</td>\n      <td>5</td>\n    </tr>\n  </tbody>\n</table>\n<p>3232320 rows × 5 columns</p>\n</div>"
     },
     "execution_count": 40,
     "metadata": {},
     "output_type": "execute_result"
    }
   ],
   "source": [
    "train_merged"
   ],
   "metadata": {
    "collapsed": false
   }
  },
  {
   "cell_type": "code",
   "execution_count": 41,
   "id": "aaf56b83",
   "metadata": {},
   "outputs": [
    {
     "name": "stdout",
     "output_type": "stream",
     "text": [
      "<class 'pandas.core.frame.DataFrame'>\n",
      "RangeIndex: 3232320 entries, 0 to 3232319\n",
      "Data columns (total 5 columns):\n",
      " #   Column       Dtype         \n",
      "---  ------       -----         \n",
      " 0   date         datetime64[ns]\n",
      " 1   store_nbr    int64         \n",
      " 2   item_nbr     int64         \n",
      " 3   units        int64         \n",
      " 4   station_nbr  int64         \n",
      "dtypes: datetime64[ns](1), int64(4)\n",
      "memory usage: 123.3 MB\n"
     ]
    }
   ],
   "source": [
    "train_merged.info()"
   ]
  },
  {
   "cell_type": "code",
   "execution_count": 42,
   "id": "0f59f02b",
   "metadata": {},
   "outputs": [],
   "source": [
    "# Об'єднання з new_weather_data для отримання погодніх умов за датою та станцією\n",
    "# За допомогою попереднього об'єднання, тепер можна об'єднати weather дату з датами продаж\n",
    "# Тепер цього разу за спільні дані беруться поля station_nbr та date\n",
    "# Тобто, до кожного запису про продажу добавляються дані про прогоду на цю дату\n",
    "train_weather = pd.merge(train_merged, new_weather_data, on=['station_nbr', 'date'])\n",
    "test_weather = pd.merge(test_merged, new_weather_data, on=['station_nbr', 'date'])"
   ]
  },
  {
   "cell_type": "code",
   "execution_count": 43,
   "id": "f601bca9",
   "metadata": {
    "scrolled": true
   },
   "outputs": [
    {
     "data": {
      "text/plain": "              date  store_nbr  item_nbr  units  station_nbr     codesum  \\\n0       2012-01-01          1         1      0            1  RA FZFG BR   \n1       2012-01-01          1         2      0            1  RA FZFG BR   \n2       2012-01-01          1         3      0            1  RA FZFG BR   \n3       2012-01-01          1         4      0            1  RA FZFG BR   \n4       2012-01-01          1         5      0            1  RA FZFG BR   \n...            ...        ...       ...    ...          ...         ...   \n3232315 2013-12-01         35       107      0            5               \n3232316 2013-12-01         35       108      0            5               \n3232317 2013-12-01         35       109      0            5               \n3232318 2013-12-01         35       110      0            5               \n3232319 2013-12-01         35       111      0            5               \n\n         preciptotal  \n0               0.05  \n1               0.05  \n2               0.05  \n3               0.05  \n4               0.05  \n...              ...  \n3232315          NaN  \n3232316          NaN  \n3232317          NaN  \n3232318          NaN  \n3232319          NaN  \n\n[3232320 rows x 7 columns]",
      "text/html": "<div>\n<style scoped>\n    .dataframe tbody tr th:only-of-type {\n        vertical-align: middle;\n    }\n\n    .dataframe tbody tr th {\n        vertical-align: top;\n    }\n\n    .dataframe thead th {\n        text-align: right;\n    }\n</style>\n<table border=\"1\" class=\"dataframe\">\n  <thead>\n    <tr style=\"text-align: right;\">\n      <th></th>\n      <th>date</th>\n      <th>store_nbr</th>\n      <th>item_nbr</th>\n      <th>units</th>\n      <th>station_nbr</th>\n      <th>codesum</th>\n      <th>preciptotal</th>\n    </tr>\n  </thead>\n  <tbody>\n    <tr>\n      <th>0</th>\n      <td>2012-01-01</td>\n      <td>1</td>\n      <td>1</td>\n      <td>0</td>\n      <td>1</td>\n      <td>RA FZFG BR</td>\n      <td>0.05</td>\n    </tr>\n    <tr>\n      <th>1</th>\n      <td>2012-01-01</td>\n      <td>1</td>\n      <td>2</td>\n      <td>0</td>\n      <td>1</td>\n      <td>RA FZFG BR</td>\n      <td>0.05</td>\n    </tr>\n    <tr>\n      <th>2</th>\n      <td>2012-01-01</td>\n      <td>1</td>\n      <td>3</td>\n      <td>0</td>\n      <td>1</td>\n      <td>RA FZFG BR</td>\n      <td>0.05</td>\n    </tr>\n    <tr>\n      <th>3</th>\n      <td>2012-01-01</td>\n      <td>1</td>\n      <td>4</td>\n      <td>0</td>\n      <td>1</td>\n      <td>RA FZFG BR</td>\n      <td>0.05</td>\n    </tr>\n    <tr>\n      <th>4</th>\n      <td>2012-01-01</td>\n      <td>1</td>\n      <td>5</td>\n      <td>0</td>\n      <td>1</td>\n      <td>RA FZFG BR</td>\n      <td>0.05</td>\n    </tr>\n    <tr>\n      <th>...</th>\n      <td>...</td>\n      <td>...</td>\n      <td>...</td>\n      <td>...</td>\n      <td>...</td>\n      <td>...</td>\n      <td>...</td>\n    </tr>\n    <tr>\n      <th>3232315</th>\n      <td>2013-12-01</td>\n      <td>35</td>\n      <td>107</td>\n      <td>0</td>\n      <td>5</td>\n      <td></td>\n      <td>NaN</td>\n    </tr>\n    <tr>\n      <th>3232316</th>\n      <td>2013-12-01</td>\n      <td>35</td>\n      <td>108</td>\n      <td>0</td>\n      <td>5</td>\n      <td></td>\n      <td>NaN</td>\n    </tr>\n    <tr>\n      <th>3232317</th>\n      <td>2013-12-01</td>\n      <td>35</td>\n      <td>109</td>\n      <td>0</td>\n      <td>5</td>\n      <td></td>\n      <td>NaN</td>\n    </tr>\n    <tr>\n      <th>3232318</th>\n      <td>2013-12-01</td>\n      <td>35</td>\n      <td>110</td>\n      <td>0</td>\n      <td>5</td>\n      <td></td>\n      <td>NaN</td>\n    </tr>\n    <tr>\n      <th>3232319</th>\n      <td>2013-12-01</td>\n      <td>35</td>\n      <td>111</td>\n      <td>0</td>\n      <td>5</td>\n      <td></td>\n      <td>NaN</td>\n    </tr>\n  </tbody>\n</table>\n<p>3232320 rows × 7 columns</p>\n</div>"
     },
     "execution_count": 43,
     "metadata": {},
     "output_type": "execute_result"
    }
   ],
   "source": [
    "train_weather"
   ]
  },
  {
   "cell_type": "markdown",
   "id": "7b7d6b49-ca64-4c85-a520-408ba92eabab",
   "metadata": {},
   "source": [
    "Вибір наступних 3 днів для кожного товару та обєднання в один файл"
   ]
  },
  {
   "cell_type": "code",
   "execution_count": 44,
   "id": "0c5926f5-57d6-4466-89a3-2f8f2cdc8828",
   "metadata": {},
   "outputs": [
    {
     "name": "stdout",
     "output_type": "stream",
     "text": [
      "1\n"
     ]
    },
    {
     "name": "stderr",
     "output_type": "stream",
     "text": [
      "C:\\Users\\Andrew\\AppData\\Local\\Temp\\ipykernel_2540\\1923980477.py:37: FutureWarning: The behavior of DataFrame concatenation with empty or all-NA entries is deprecated. In a future version, this will no longer exclude empty or all-NA columns when determining the result dtypes. To retain the old behavior, exclude the relevant entries before the concat operation.\n",
      "  train_existing_df= pd.concat([train_existing_df, train_d1], ignore_index=True)\n",
      "C:\\Users\\Andrew\\AppData\\Local\\Temp\\ipykernel_2540\\1923980477.py:51: FutureWarning: The behavior of DataFrame concatenation with empty or all-NA entries is deprecated. In a future version, this will no longer exclude empty or all-NA columns when determining the result dtypes. To retain the old behavior, exclude the relevant entries before the concat operation.\n",
      "  test_existing_df= pd.concat([test_existing_df, test_d1], ignore_index=True)\n",
      "C:\\Users\\Andrew\\AppData\\Local\\Temp\\ipykernel_2540\\1923980477.py:67: FutureWarning: The behavior of DataFrame concatenation with empty or all-NA entries is deprecated. In a future version, this will no longer exclude empty or all-NA columns when determining the result dtypes. To retain the old behavior, exclude the relevant entries before the concat operation.\n",
      "  TRAIN_EXISTING_DF_COMBINED = pd.concat([TRAIN_EXISTING_DF_COMBINED, train_existing_df], ignore_index=True)\n",
      "C:\\Users\\Andrew\\AppData\\Local\\Temp\\ipykernel_2540\\1923980477.py:68: FutureWarning: The behavior of DataFrame concatenation with empty or all-NA entries is deprecated. In a future version, this will no longer exclude empty or all-NA columns when determining the result dtypes. To retain the old behavior, exclude the relevant entries before the concat operation.\n",
      "  TEST_EXISTING_DF_COMBINED = pd.concat([TEST_EXISTING_DF_COMBINED, test_existing_df], ignore_index=True)\n"
     ]
    },
    {
     "name": "stdout",
     "output_type": "stream",
     "text": [
      "2\n",
      "3\n",
      "4\n",
      "5\n",
      "6\n",
      "7\n",
      "8\n",
      "9\n",
      "10\n",
      "11\n"
     ]
    },
    {
     "ename": "KeyboardInterrupt",
     "evalue": "",
     "output_type": "error",
     "traceback": [
      "\u001B[1;31m---------------------------------------------------------------------------\u001B[0m",
      "\u001B[1;31mKeyboardInterrupt\u001B[0m                         Traceback (most recent call last)",
      "Cell \u001B[1;32mIn[44], line 18\u001B[0m\n\u001B[0;32m     15\u001B[0m test_poor_weather \u001B[38;5;241m=\u001B[39m test_selected_data[((test_selected_data[\u001B[38;5;124m'\u001B[39m\u001B[38;5;124mcodesum\u001B[39m\u001B[38;5;124m'\u001B[39m]\u001B[38;5;241m.\u001B[39mstr\u001B[38;5;241m.\u001B[39mcontains(\u001B[38;5;124m'\u001B[39m\u001B[38;5;124mRA\u001B[39m\u001B[38;5;124m'\u001B[39m)) \u001B[38;5;241m&\u001B[39m (test_selected_data[\u001B[38;5;124m'\u001B[39m\u001B[38;5;124mpreciptotal\u001B[39m\u001B[38;5;124m'\u001B[39m] \u001B[38;5;241m>\u001B[39m \u001B[38;5;241m1\u001B[39m)) \u001B[38;5;241m|\u001B[39m ((test_selected_data[\u001B[38;5;124m'\u001B[39m\u001B[38;5;124mcodesum\u001B[39m\u001B[38;5;124m'\u001B[39m]\u001B[38;5;241m.\u001B[39mstr\u001B[38;5;241m.\u001B[39mcontains(\u001B[38;5;124m'\u001B[39m\u001B[38;5;124mSN\u001B[39m\u001B[38;5;124m'\u001B[39m)) \u001B[38;5;241m&\u001B[39m (test_selected_data[\u001B[38;5;124m'\u001B[39m\u001B[38;5;124mpreciptotal\u001B[39m\u001B[38;5;124m'\u001B[39m] \u001B[38;5;241m>\u001B[39m \u001B[38;5;241m2\u001B[39m))]\n\u001B[0;32m     17\u001B[0m \u001B[38;5;66;03m# Сортування по даті та по id магазину\u001B[39;00m\n\u001B[1;32m---> 18\u001B[0m train_poor_weather\u001B[38;5;241m=\u001B[39m\u001B[43mtrain_poor_weather\u001B[49m\u001B[38;5;241;43m.\u001B[39;49m\u001B[43msort_values\u001B[49m\u001B[43m(\u001B[49m\u001B[43mby\u001B[49m\u001B[38;5;241;43m=\u001B[39;49m\u001B[43m[\u001B[49m\u001B[38;5;124;43m'\u001B[39;49m\u001B[38;5;124;43mdate\u001B[39;49m\u001B[38;5;124;43m'\u001B[39;49m\u001B[43m,\u001B[49m\u001B[43m \u001B[49m\u001B[38;5;124;43m'\u001B[39;49m\u001B[38;5;124;43mstore_nbr\u001B[39;49m\u001B[38;5;124;43m'\u001B[39;49m\u001B[43m]\u001B[49m\u001B[43m)\u001B[49m\n\u001B[0;32m     19\u001B[0m test_poor_weather\u001B[38;5;241m=\u001B[39mtest_poor_weather\u001B[38;5;241m.\u001B[39msort_values(by\u001B[38;5;241m=\u001B[39m[\u001B[38;5;124m'\u001B[39m\u001B[38;5;124mdate\u001B[39m\u001B[38;5;124m'\u001B[39m, \u001B[38;5;124m'\u001B[39m\u001B[38;5;124mstore_nbr\u001B[39m\u001B[38;5;124m'\u001B[39m])\n\u001B[0;32m     21\u001B[0m \u001B[38;5;66;03m# Для кожного запису train/test_poor_weather отримати записи на 3 дні вперед\u001B[39;00m\n",
      "File \u001B[1;32mG:\\Work\\m1\\DSBD\\kaggle\\venv\\lib\\site-packages\\pandas\\core\\frame.py:6938\u001B[0m, in \u001B[0;36mDataFrame.sort_values\u001B[1;34m(self, by, axis, ascending, inplace, kind, na_position, ignore_index, key)\u001B[0m\n\u001B[0;32m   6930\u001B[0m     \u001B[38;5;28;01mif\u001B[39;00m key \u001B[38;5;129;01mis\u001B[39;00m \u001B[38;5;129;01mnot\u001B[39;00m \u001B[38;5;28;01mNone\u001B[39;00m:\n\u001B[0;32m   6931\u001B[0m         \u001B[38;5;66;03m# error: List comprehension has incompatible type List[Series];\u001B[39;00m\n\u001B[0;32m   6932\u001B[0m         \u001B[38;5;66;03m# expected List[ndarray]\u001B[39;00m\n\u001B[0;32m   6933\u001B[0m         keys \u001B[38;5;241m=\u001B[39m [\n\u001B[0;32m   6934\u001B[0m             Series(k, name\u001B[38;5;241m=\u001B[39mname)  \u001B[38;5;66;03m# type: ignore[misc]\u001B[39;00m\n\u001B[0;32m   6935\u001B[0m             \u001B[38;5;28;01mfor\u001B[39;00m (k, name) \u001B[38;5;129;01min\u001B[39;00m \u001B[38;5;28mzip\u001B[39m(keys, by)\n\u001B[0;32m   6936\u001B[0m         ]\n\u001B[1;32m-> 6938\u001B[0m     indexer \u001B[38;5;241m=\u001B[39m \u001B[43mlexsort_indexer\u001B[49m\u001B[43m(\u001B[49m\n\u001B[0;32m   6939\u001B[0m \u001B[43m        \u001B[49m\u001B[43mkeys\u001B[49m\u001B[43m,\u001B[49m\u001B[43m \u001B[49m\u001B[43morders\u001B[49m\u001B[38;5;241;43m=\u001B[39;49m\u001B[43mascending\u001B[49m\u001B[43m,\u001B[49m\u001B[43m \u001B[49m\u001B[43mna_position\u001B[49m\u001B[38;5;241;43m=\u001B[39;49m\u001B[43mna_position\u001B[49m\u001B[43m,\u001B[49m\u001B[43m \u001B[49m\u001B[43mkey\u001B[49m\u001B[38;5;241;43m=\u001B[39;49m\u001B[43mkey\u001B[49m\n\u001B[0;32m   6940\u001B[0m \u001B[43m    \u001B[49m\u001B[43m)\u001B[49m\n\u001B[0;32m   6941\u001B[0m \u001B[38;5;28;01melif\u001B[39;00m \u001B[38;5;28mlen\u001B[39m(by):\n\u001B[0;32m   6942\u001B[0m     \u001B[38;5;66;03m# len(by) == 1\u001B[39;00m\n\u001B[0;32m   6944\u001B[0m     k \u001B[38;5;241m=\u001B[39m \u001B[38;5;28mself\u001B[39m\u001B[38;5;241m.\u001B[39m_get_label_or_level_values(by[\u001B[38;5;241m0\u001B[39m], axis\u001B[38;5;241m=\u001B[39maxis)\n",
      "File \u001B[1;32mG:\\Work\\m1\\DSBD\\kaggle\\venv\\lib\\site-packages\\pandas\\core\\sorting.py:375\u001B[0m, in \u001B[0;36mlexsort_indexer\u001B[1;34m(keys, orders, na_position, key, codes_given)\u001B[0m\n\u001B[0;32m    373\u001B[0m     cat \u001B[38;5;241m=\u001B[39m Categorical(k, ordered\u001B[38;5;241m=\u001B[39m\u001B[38;5;28;01mTrue\u001B[39;00m)\n\u001B[0;32m    374\u001B[0m     n \u001B[38;5;241m=\u001B[39m \u001B[38;5;28mlen\u001B[39m(cat\u001B[38;5;241m.\u001B[39mcategories)\n\u001B[1;32m--> 375\u001B[0m     codes \u001B[38;5;241m=\u001B[39m \u001B[43mcat\u001B[49m\u001B[38;5;241;43m.\u001B[39;49m\u001B[43mcodes\u001B[49m\u001B[38;5;241;43m.\u001B[39;49m\u001B[43mcopy\u001B[49m\u001B[43m(\u001B[49m\u001B[43m)\u001B[49m\n\u001B[0;32m    376\u001B[0m     mask \u001B[38;5;241m=\u001B[39m cat\u001B[38;5;241m.\u001B[39mcodes \u001B[38;5;241m==\u001B[39m \u001B[38;5;241m-\u001B[39m\u001B[38;5;241m1\u001B[39m\n\u001B[0;32m    378\u001B[0m \u001B[38;5;28;01mif\u001B[39;00m order:  \u001B[38;5;66;03m# ascending\u001B[39;00m\n",
      "\u001B[1;31mKeyboardInterrupt\u001B[0m: "
     ]
    }
   ],
   "source": [
    "# ВИКОНАННЯ КОМІРКИ ЗАЙМАЄ ВЕЛИКИЙ ЧАС\n",
    "\n",
    "TRAIN_EXISTING_DF_COMBINED = pd.DataFrame({'date': [], 'store_nbr': [], 'item_nbr':[],'units': [], 'station_nbr': [], 'codesum':[], 'preciptotal':[]})\n",
    "TEST_EXISTING_DF_COMBINED= pd.DataFrame({'date': [], 'store_nbr': [], 'item_nbr':[],'units': [], 'station_nbr': [], 'codesum':[], 'preciptotal':[]})\n",
    "\n",
    "for k in range(1, 112):\n",
    "    # Ітерація по кожному Item ID (1-111)\n",
    "    print(k)\n",
    "    # фільтрація записів з Item ID\n",
    "    train_selected_data = train_weather[train_weather['item_nbr'] == k]\n",
    "    test_selected_data = test_weather[test_weather['item_nbr'] == k]\n",
    "\n",
    "    # фільтрація даних по ознакам: Якщо в цю дату був дощ (RA) та значеня осадків був > 1, або якщо був сніг (SN) та осади були > 2\n",
    "    train_poor_weather = train_selected_data[((train_selected_data['codesum'].str.contains('RA')) & (train_selected_data['preciptotal'] > 1)) | ((train_selected_data['codesum'].str.contains('SN')) & (train_selected_data['preciptotal'] > 2))]\n",
    "    test_poor_weather = test_selected_data[((test_selected_data['codesum'].str.contains('RA')) & (test_selected_data['preciptotal'] > 1)) | ((test_selected_data['codesum'].str.contains('SN')) & (test_selected_data['preciptotal'] > 2))]\n",
    "\n",
    "    # Сортування по даті та по id магазину\n",
    "    train_poor_weather=train_poor_weather.sort_values(by=['date', 'store_nbr'])\n",
    "    test_poor_weather=test_poor_weather.sort_values(by=['date', 'store_nbr'])\n",
    "\n",
    "    # Для кожного запису train/test_poor_weather отримати записи на 3 дні вперед\n",
    "    train_existing_df = pd.DataFrame({'date': [], 'store_nbr': [], 'item_nbr':[],'units': [], 'station_nbr': [], 'codesum':[], 'preciptotal':[]})\n",
    "    for i in range(len(train_poor_weather)):\n",
    "        # train_poor_weather - дані з катаклізмами\n",
    "        # 03-03-2012 SN\n",
    "        # 05-04-2012 SN\n",
    "\n",
    "        # train_selected_data\n",
    "        # 03-03-2012 SN 5\n",
    "        # 04-03-2012    4\n",
    "        # 05-03-2012    3\n",
    "        # 06-03-2012\n",
    "\n",
    "\n",
    "        # Отримати запис, date якого дорівнює date i-ого запису train_poor_weather + 1 день та store id якого дорівнює store id i-ого елемента\n",
    "        train_d1=train_selected_data[(train_selected_data['date'] == train_poor_weather['date'].iloc[i] + pd.DateOffset(days=1)) & (train_selected_data['store_nbr'] == train_poor_weather['store_nbr'].iloc[i])]\n",
    "        train_existing_df= pd.concat([train_existing_df, train_d1], ignore_index=True)\n",
    "\n",
    "        # Отримати запис, date якого дорівнює date i-ого запису train_poor_weather + 2 дня та store id якого дорівнює store id i-ого елемента\n",
    "        train_d2=train_selected_data[(train_selected_data['date'] == train_poor_weather['date'].iloc[i] + pd.DateOffset(days=2)) & (train_selected_data['store_nbr'] == train_poor_weather['store_nbr'].iloc[i])]\n",
    "        train_existing_df = pd.concat([train_existing_df, train_d2], ignore_index=True)\n",
    "\n",
    "        # Отримати запис, date якого дорівнює date i-ого запису train_poor_weather + 3 дня та store id якого дорівнює store id i-ого елемента\n",
    "        train_d3=train_selected_data[(train_selected_data['date'] == train_poor_weather['date'].iloc[i] + pd.DateOffset(days=3)) & (train_selected_data['store_nbr'] == train_poor_weather['store_nbr'].iloc[i])]\n",
    "        train_existing_df = pd.concat([train_existing_df, train_d3], ignore_index=True)\n",
    "        \n",
    "    test_existing_df = pd.DataFrame({'date': [], 'store_nbr': [], 'item_nbr':[],'units': [], 'station_nbr': [], 'codesum':[], 'preciptotal':[]})\n",
    "\n",
    "    for i in range(len(test_poor_weather)):\n",
    "        test_d1=test_selected_data[(test_selected_data['date'] == test_poor_weather['date'].iloc[i] + pd.DateOffset(days=1)) & (test_selected_data['store_nbr'] == test_poor_weather['store_nbr'].iloc[i])]\n",
    "        test_existing_df= pd.concat([test_existing_df, test_d1], ignore_index=True)\n",
    "\n",
    "        test_d2=test_selected_data[(test_selected_data['date'] == test_poor_weather['date'].iloc[i] + pd.DateOffset(days=2)) & (test_selected_data['store_nbr'] == test_poor_weather['store_nbr'].iloc[i])]\n",
    "        test_existing_df = pd.concat([test_existing_df, test_d2], ignore_index=True)\n",
    "\n",
    "        test_d3=test_selected_data[(test_selected_data['date'] == test_poor_weather['date'].iloc[i] + pd.DateOffset(days=3)) & (test_selected_data['store_nbr'] == test_poor_weather['store_nbr'].iloc[i])]\n",
    "        test_existing_df = pd.concat([test_existing_df, test_d3], ignore_index=True)\n",
    "        \n",
    "    train_existing_df = train_existing_df.drop_duplicates()\n",
    "    test_existing_df = test_existing_df.drop_duplicates()\n",
    "\n",
    "    # Переписати всі NaN значення в колонкі preciptotal на 0.00\n",
    "    train_existing_df.iloc[:, train_existing_df.columns.get_loc('preciptotal')].fillna(0.00, inplace=True)\n",
    "    test_existing_df.iloc[:, test_existing_df.columns.get_loc('preciptotal')].fillna(0.00, inplace=True)\n",
    "\n",
    "    # Добавити результат до головного DataFrame\n",
    "    TRAIN_EXISTING_DF_COMBINED = pd.concat([TRAIN_EXISTING_DF_COMBINED, train_existing_df], ignore_index=True)\n",
    "    TEST_EXISTING_DF_COMBINED = pd.concat([TEST_EXISTING_DF_COMBINED, test_existing_df], ignore_index=True)"
   ]
  },
  {
   "cell_type": "code",
   "execution_count": null,
   "outputs": [],
   "source": [
    "TRAIN_EXISTING_DF_COMBINED"
   ],
   "metadata": {
    "collapsed": false
   }
  },
  {
   "cell_type": "code",
   "execution_count": 56,
   "id": "d21aa884-86f5-4795-b134-d8b353f81cea",
   "metadata": {},
   "outputs": [
    {
     "data": {
      "text/plain": "<Figure size 2000x500 with 1 Axes>",
      "image/png": "[encoded data removed]"
     },
     "metadata": {},
     "output_type": "display_data"
    }
   ],
   "source": [
    "plt.figure(figsize=(20, 5))\n",
    "plt.plot(TRAIN_EXISTING_DF_COMBINED['item_nbr'], TRAIN_EXISTING_DF_COMBINED['units'], label = 'Train data')\n",
    "plt.plot(TEST_EXISTING_DF_COMBINED['item_nbr'], TEST_EXISTING_DF_COMBINED['units'], label = 'Test data')\n",
    "plt.legend()\n",
    "plt.show()"
   ]
  },
  {
   "cell_type": "markdown",
   "id": "8515e4bc",
   "metadata": {},
   "source": [
    "ВИБІР НОМЕРА ПРОДУКТУ ВІД 1 ДО 111"
   ]
  },
  {
   "cell_type": "code",
   "execution_count": 73,
   "id": "48c8751f",
   "metadata": {},
   "outputs": [
    {
     "data": {
      "text/plain": "              date  store_nbr  item_nbr  units  station_nbr     codesum  \\\n71      2012-01-01          1        72      0            1  RA FZFG BR   \n182     2012-01-02          1        72      0            1               \n293     2012-01-03          1        72      0            1               \n404     2012-01-04          1        72      0            1               \n515     2012-01-05          1        72      0            1               \n...            ...        ...       ...    ...          ...         ...   \n3231836 2013-11-27         35        72      0            5               \n3231947 2013-11-28         35        72      0            5               \n3232058 2013-11-29         35        72      0            5               \n3232169 2013-11-30         35        72      0            5               \n3232280 2013-12-01         35        72      0            5               \n\n         preciptotal  \n71              0.05  \n182             0.01  \n293             0.00  \n404             0.00  \n515             0.00  \n...              ...  \n3231836          NaN  \n3231947          NaN  \n3232058          NaN  \n3232169          NaN  \n3232280          NaN  \n\n[29120 rows x 7 columns]",
      "text/html": "<div>\n<style scoped>\n    .dataframe tbody tr th:only-of-type {\n        vertical-align: middle;\n    }\n\n    .dataframe tbody tr th {\n        vertical-align: top;\n    }\n\n    .dataframe thead th {\n        text-align: right;\n    }\n</style>\n<table border=\"1\" class=\"dataframe\">\n  <thead>\n    <tr style=\"text-align: right;\">\n      <th></th>\n      <th>date</th>\n      <th>store_nbr</th>\n      <th>item_nbr</th>\n      <th>units</th>\n      <th>station_nbr</th>\n      <th>codesum</th>\n      <th>preciptotal</th>\n    </tr>\n  </thead>\n  <tbody>\n    <tr>\n      <th>71</th>\n      <td>2012-01-01</td>\n      <td>1</td>\n      <td>72</td>\n      <td>0</td>\n      <td>1</td>\n      <td>RA FZFG BR</td>\n      <td>0.05</td>\n    </tr>\n    <tr>\n      <th>182</th>\n      <td>2012-01-02</td>\n      <td>1</td>\n      <td>72</td>\n      <td>0</td>\n      <td>1</td>\n      <td></td>\n      <td>0.01</td>\n    </tr>\n    <tr>\n      <th>293</th>\n      <td>2012-01-03</td>\n      <td>1</td>\n      <td>72</td>\n      <td>0</td>\n      <td>1</td>\n      <td></td>\n      <td>0.00</td>\n    </tr>\n    <tr>\n      <th>404</th>\n      <td>2012-01-04</td>\n      <td>1</td>\n      <td>72</td>\n      <td>0</td>\n      <td>1</td>\n      <td></td>\n      <td>0.00</td>\n    </tr>\n    <tr>\n      <th>515</th>\n      <td>2012-01-05</td>\n      <td>1</td>\n      <td>72</td>\n      <td>0</td>\n      <td>1</td>\n      <td></td>\n      <td>0.00</td>\n    </tr>\n    <tr>\n      <th>...</th>\n      <td>...</td>\n      <td>...</td>\n      <td>...</td>\n      <td>...</td>\n      <td>...</td>\n      <td>...</td>\n      <td>...</td>\n    </tr>\n    <tr>\n      <th>3231836</th>\n      <td>2013-11-27</td>\n      <td>35</td>\n      <td>72</td>\n      <td>0</td>\n      <td>5</td>\n      <td></td>\n      <td>NaN</td>\n    </tr>\n    <tr>\n      <th>3231947</th>\n      <td>2013-11-28</td>\n      <td>35</td>\n      <td>72</td>\n      <td>0</td>\n      <td>5</td>\n      <td></td>\n      <td>NaN</td>\n    </tr>\n    <tr>\n      <th>3232058</th>\n      <td>2013-11-29</td>\n      <td>35</td>\n      <td>72</td>\n      <td>0</td>\n      <td>5</td>\n      <td></td>\n      <td>NaN</td>\n    </tr>\n    <tr>\n      <th>3232169</th>\n      <td>2013-11-30</td>\n      <td>35</td>\n      <td>72</td>\n      <td>0</td>\n      <td>5</td>\n      <td></td>\n      <td>NaN</td>\n    </tr>\n    <tr>\n      <th>3232280</th>\n      <td>2013-12-01</td>\n      <td>35</td>\n      <td>72</td>\n      <td>0</td>\n      <td>5</td>\n      <td></td>\n      <td>NaN</td>\n    </tr>\n  </tbody>\n</table>\n<p>29120 rows × 7 columns</p>\n</div>"
     },
     "execution_count": 73,
     "metadata": {},
     "output_type": "execute_result"
    }
   ],
   "source": [
    "number_produkt=72\n",
    "train_selected_data = train_weather[train_weather['item_nbr'] == number_produkt]\n",
    "test_selected_data = test_weather[test_weather['item_nbr'] == number_produkt]\n",
    "\n",
    "train_selected_data"
   ]
  },
  {
   "cell_type": "code",
   "execution_count": 75,
   "id": "459e63ea",
   "metadata": {},
   "outputs": [
    {
     "data": {
      "text/plain": "              date  store_nbr  item_nbr  units  station_nbr  \\\n2594030 2012-01-09         17        72      0           20   \n3026708 2012-01-09         36        72      0           18   \n2521991 2012-01-12         16        72      0            2   \n81767   2012-01-24          2        72      0           14   \n81878   2012-01-24          6        72      0           14   \n...            ...        ...       ...    ...          ...   \n896951  2013-03-23         41        72      0           12   \n1948121 2013-03-23         43        72      0           11   \n897062  2013-03-23         44        72      0           12   \n3076103 2013-03-30         36        72      0           18   \n3150251 2013-04-02         39        72      0            8   \n\n                         codesum  preciptotal  \n2594030               RA BR VCTS         1.58  \n3026708               TSRA RA BR         1.32  \n2521991  RA SN FG+ FG FZFG BR UP         1.06  \n81767                      RA BR         1.52  \n81878                      RA BR         1.52  \n...                          ...          ...  \n896951           TSRA RA BR VCTS         2.03  \n1948121               TSRA RA BR         2.31  \n897062           TSRA RA BR VCTS         2.03  \n3076103                  TSRA BR         1.04  \n3150251      TS TSSN RA DZ SN BR         1.36  \n\n[431 rows x 7 columns]",
      "text/html": "<div>\n<style scoped>\n    .dataframe tbody tr th:only-of-type {\n        vertical-align: middle;\n    }\n\n    .dataframe tbody tr th {\n        vertical-align: top;\n    }\n\n    .dataframe thead th {\n        text-align: right;\n    }\n</style>\n<table border=\"1\" class=\"dataframe\">\n  <thead>\n    <tr style=\"text-align: right;\">\n      <th></th>\n      <th>date</th>\n      <th>store_nbr</th>\n      <th>item_nbr</th>\n      <th>units</th>\n      <th>station_nbr</th>\n      <th>codesum</th>\n      <th>preciptotal</th>\n    </tr>\n  </thead>\n  <tbody>\n    <tr>\n      <th>2594030</th>\n      <td>2012-01-09</td>\n      <td>17</td>\n      <td>72</td>\n      <td>0</td>\n      <td>20</td>\n      <td>RA BR VCTS</td>\n      <td>1.58</td>\n    </tr>\n    <tr>\n      <th>3026708</th>\n      <td>2012-01-09</td>\n      <td>36</td>\n      <td>72</td>\n      <td>0</td>\n      <td>18</td>\n      <td>TSRA RA BR</td>\n      <td>1.32</td>\n    </tr>\n    <tr>\n      <th>2521991</th>\n      <td>2012-01-12</td>\n      <td>16</td>\n      <td>72</td>\n      <td>0</td>\n      <td>2</td>\n      <td>RA SN FG+ FG FZFG BR UP</td>\n      <td>1.06</td>\n    </tr>\n    <tr>\n      <th>81767</th>\n      <td>2012-01-24</td>\n      <td>2</td>\n      <td>72</td>\n      <td>0</td>\n      <td>14</td>\n      <td>RA BR</td>\n      <td>1.52</td>\n    </tr>\n    <tr>\n      <th>81878</th>\n      <td>2012-01-24</td>\n      <td>6</td>\n      <td>72</td>\n      <td>0</td>\n      <td>14</td>\n      <td>RA BR</td>\n      <td>1.52</td>\n    </tr>\n    <tr>\n      <th>...</th>\n      <td>...</td>\n      <td>...</td>\n      <td>...</td>\n      <td>...</td>\n      <td>...</td>\n      <td>...</td>\n      <td>...</td>\n    </tr>\n    <tr>\n      <th>896951</th>\n      <td>2013-03-23</td>\n      <td>41</td>\n      <td>72</td>\n      <td>0</td>\n      <td>12</td>\n      <td>TSRA RA BR VCTS</td>\n      <td>2.03</td>\n    </tr>\n    <tr>\n      <th>1948121</th>\n      <td>2013-03-23</td>\n      <td>43</td>\n      <td>72</td>\n      <td>0</td>\n      <td>11</td>\n      <td>TSRA RA BR</td>\n      <td>2.31</td>\n    </tr>\n    <tr>\n      <th>897062</th>\n      <td>2013-03-23</td>\n      <td>44</td>\n      <td>72</td>\n      <td>0</td>\n      <td>12</td>\n      <td>TSRA RA BR VCTS</td>\n      <td>2.03</td>\n    </tr>\n    <tr>\n      <th>3076103</th>\n      <td>2013-03-30</td>\n      <td>36</td>\n      <td>72</td>\n      <td>0</td>\n      <td>18</td>\n      <td>TSRA BR</td>\n      <td>1.04</td>\n    </tr>\n    <tr>\n      <th>3150251</th>\n      <td>2013-04-02</td>\n      <td>39</td>\n      <td>72</td>\n      <td>0</td>\n      <td>8</td>\n      <td>TS TSSN RA DZ SN BR</td>\n      <td>1.36</td>\n    </tr>\n  </tbody>\n</table>\n<p>431 rows × 7 columns</p>\n</div>"
     },
     "execution_count": 75,
     "metadata": {},
     "output_type": "execute_result"
    }
   ],
   "source": [
    "# якщо в рядку codesum є значення дощу (RA) і в рядку preciptotal значення більше 1 \n",
    "# або в рядку codesum є значення снігу (SN) і в рядку preciptotal значення більше 2\n",
    "train_poor_weather = train_selected_data[((train_selected_data['codesum'].str.contains('RA')) & (train_selected_data['preciptotal'] > 1)) | ((train_selected_data['codesum'].str.contains('SN')) & (train_selected_data['preciptotal'] > 2))]\n",
    "train_poor_weather=train_poor_weather.sort_values(by=['date', 'store_nbr'])\n",
    "\n",
    "test_poor_weather = test_selected_data[((test_selected_data['codesum'].str.contains('RA')) & (test_selected_data['preciptotal'] > 1)) | ((test_selected_data['codesum'].str.contains('SN')) & (test_selected_data['preciptotal'] > 2))]\n",
    "test_poor_weather=test_poor_weather.sort_values(by=['date', 'store_nbr'])\n",
    "\n",
    "train_poor_weather"
   ]
  },
  {
   "cell_type": "code",
   "execution_count": 76,
   "id": "00bc4f15",
   "metadata": {},
   "outputs": [
    {
     "name": "stdout",
     "output_type": "stream",
     "text": [
      "0\n",
      "1\n",
      "2\n",
      "3\n",
      "4\n",
      "5\n",
      "6\n",
      "7\n",
      "8\n",
      "9\n",
      "10\n",
      "11\n",
      "12\n",
      "13\n",
      "14\n",
      "15\n",
      "16\n",
      "17\n",
      "18\n",
      "19\n",
      "20\n",
      "21\n",
      "22\n",
      "23\n",
      "24\n",
      "25\n",
      "26\n",
      "27\n",
      "28\n",
      "29\n",
      "30\n",
      "31\n",
      "32\n",
      "33\n",
      "34\n",
      "35\n",
      "36\n",
      "37\n",
      "38\n",
      "39\n",
      "40\n",
      "41\n",
      "42\n",
      "43\n",
      "44\n",
      "45\n",
      "46\n",
      "47\n",
      "48\n",
      "49\n",
      "50\n",
      "51\n",
      "52\n",
      "53\n",
      "54\n",
      "55\n",
      "56\n",
      "57\n",
      "58\n"
     ]
    },
    {
     "name": "stderr",
     "output_type": "stream",
     "text": [
      "C:\\Users\\Andrew\\AppData\\Local\\Temp\\ipykernel_2540\\992166337.py:7: FutureWarning: The behavior of DataFrame concatenation with empty or all-NA entries is deprecated. In a future version, this will no longer exclude empty or all-NA columns when determining the result dtypes. To retain the old behavior, exclude the relevant entries before the concat operation.\n",
      "  train_existing_df= pd.concat([train_existing_df, train_d1], ignore_index=True)\n"
     ]
    },
    {
     "name": "stdout",
     "output_type": "stream",
     "text": [
      "59\n",
      "60\n",
      "61\n",
      "62\n",
      "63\n",
      "64\n",
      "65\n",
      "66\n",
      "67\n",
      "68\n",
      "69\n",
      "70\n",
      "71\n",
      "72\n",
      "73\n",
      "74\n",
      "75\n",
      "76\n",
      "77\n",
      "78\n",
      "79\n",
      "80\n",
      "81\n",
      "82\n",
      "83\n",
      "84\n",
      "85\n",
      "86\n",
      "87\n",
      "88\n",
      "89\n",
      "90\n",
      "91\n",
      "92\n",
      "93\n",
      "94\n",
      "95\n",
      "96\n",
      "97\n",
      "98\n",
      "99\n",
      "100\n",
      "101\n",
      "102\n",
      "103\n",
      "104\n",
      "105\n",
      "106\n",
      "107\n",
      "108\n",
      "109\n",
      "110\n",
      "111\n",
      "112\n",
      "113\n",
      "114\n",
      "115\n",
      "116\n",
      "117\n",
      "118\n",
      "119\n",
      "120\n",
      "121\n",
      "122\n",
      "123\n",
      "124\n",
      "125\n",
      "126\n",
      "127\n",
      "128\n",
      "129\n",
      "130\n",
      "131\n",
      "132\n",
      "133\n",
      "134\n",
      "135\n",
      "136\n",
      "137\n",
      "138\n",
      "139\n",
      "140\n",
      "141\n",
      "142\n",
      "143\n",
      "144\n",
      "145\n",
      "146\n",
      "147\n",
      "148\n",
      "149\n",
      "150\n",
      "151\n",
      "152\n",
      "153\n",
      "154\n",
      "155\n",
      "156\n",
      "157\n",
      "158\n",
      "159\n",
      "160\n",
      "161\n",
      "162\n",
      "163\n",
      "164\n",
      "165\n",
      "166\n",
      "167\n",
      "168\n",
      "169\n",
      "170\n",
      "171\n",
      "172\n",
      "173\n",
      "174\n",
      "175\n",
      "176\n",
      "177\n",
      "178\n",
      "179\n",
      "180\n",
      "181\n",
      "182\n",
      "183\n",
      "184\n",
      "185\n",
      "186\n",
      "187\n",
      "188\n",
      "189\n",
      "190\n",
      "191\n",
      "192\n",
      "193\n",
      "194\n",
      "195\n",
      "196\n",
      "197\n",
      "198\n",
      "199\n",
      "200\n",
      "201\n",
      "202\n",
      "203\n",
      "204\n",
      "205\n",
      "206\n",
      "207\n",
      "208\n",
      "209\n",
      "210\n",
      "211\n",
      "212\n",
      "213\n",
      "214\n",
      "215\n",
      "216\n",
      "217\n",
      "218\n",
      "219\n",
      "220\n",
      "221\n",
      "222\n",
      "223\n",
      "224\n",
      "225\n",
      "226\n",
      "227\n",
      "228\n",
      "229\n",
      "230\n",
      "231\n",
      "232\n",
      "233\n",
      "234\n",
      "235\n",
      "236\n",
      "237\n",
      "238\n",
      "239\n",
      "240\n",
      "241\n",
      "242\n",
      "243\n",
      "244\n",
      "245\n",
      "246\n",
      "247\n",
      "248\n",
      "249\n",
      "250\n",
      "251\n",
      "252\n",
      "253\n",
      "254\n",
      "255\n",
      "256\n",
      "257\n",
      "258\n",
      "259\n",
      "260\n",
      "261\n",
      "262\n",
      "263\n",
      "264\n",
      "265\n",
      "266\n",
      "267\n",
      "268\n",
      "269\n",
      "270\n",
      "271\n",
      "272\n",
      "273\n",
      "274\n",
      "275\n",
      "276\n",
      "277\n",
      "278\n",
      "279\n",
      "280\n",
      "281\n",
      "282\n",
      "283\n",
      "284\n",
      "285\n",
      "286\n",
      "287\n",
      "288\n",
      "289\n",
      "290\n",
      "291\n",
      "292\n",
      "293\n",
      "294\n",
      "295\n",
      "296\n",
      "297\n",
      "298\n",
      "299\n",
      "300\n",
      "301\n",
      "302\n",
      "303\n",
      "304\n",
      "305\n",
      "306\n",
      "307\n",
      "308\n",
      "309\n",
      "310\n",
      "311\n",
      "312\n",
      "313\n",
      "314\n",
      "315\n",
      "316\n",
      "317\n",
      "318\n",
      "319\n",
      "320\n",
      "321\n",
      "322\n",
      "323\n",
      "324\n",
      "325\n",
      "326\n",
      "327\n",
      "328\n",
      "329\n",
      "330\n",
      "331\n",
      "332\n",
      "333\n",
      "334\n",
      "335\n",
      "336\n",
      "337\n",
      "338\n",
      "339\n",
      "340\n",
      "341\n",
      "342\n",
      "343\n",
      "344\n",
      "345\n",
      "346\n",
      "347\n",
      "348\n",
      "349\n",
      "350\n",
      "351\n",
      "352\n",
      "353\n",
      "354\n",
      "355\n",
      "356\n",
      "357\n",
      "358\n",
      "359\n",
      "360\n",
      "361\n",
      "362\n",
      "363\n",
      "364\n",
      "365\n",
      "366\n",
      "367\n",
      "368\n",
      "369\n",
      "370\n",
      "371\n",
      "372\n",
      "373\n",
      "374\n",
      "375\n",
      "376\n",
      "377\n",
      "378\n",
      "379\n",
      "380\n",
      "381\n",
      "382\n",
      "383\n",
      "384\n",
      "385\n",
      "386\n",
      "387\n",
      "388\n",
      "389\n",
      "390\n",
      "391\n",
      "392\n",
      "393\n",
      "394\n",
      "395\n",
      "396\n",
      "397\n",
      "398\n",
      "399\n",
      "400\n",
      "401\n",
      "402\n",
      "403\n",
      "404\n",
      "405\n",
      "406\n",
      "407\n",
      "408\n",
      "409\n",
      "410\n",
      "411\n",
      "412\n",
      "413\n",
      "414\n",
      "415\n",
      "416\n",
      "417\n",
      "418\n",
      "419\n",
      "420\n",
      "421\n",
      "422\n",
      "423\n",
      "424\n",
      "425\n",
      "426\n",
      "427\n",
      "428\n",
      "429\n",
      "430\n"
     ]
    }
   ],
   "source": [
    "# вибіраємо наступні 3 дні після снігу чи дощу\n",
    "train_existing_df = pd.DataFrame({'date': [], 'store_nbr': [], 'item_nbr':[],'units': [], 'station_nbr': [], 'codesum':[], 'preciptotal':[]})\n",
    "\n",
    "for i in range(len(train_poor_weather)):\n",
    "    print(i)\n",
    "    train_d1=train_selected_data[(train_selected_data['date'] == train_poor_weather['date'].iloc[i] + pd.DateOffset(days=1)) & (train_selected_data['store_nbr'] == train_poor_weather['store_nbr'].iloc[i])]\n",
    "    train_existing_df= pd.concat([train_existing_df, train_d1], ignore_index=True)\n",
    "\n",
    "    train_d2=train_selected_data[(train_selected_data['date'] == train_poor_weather['date'].iloc[i] + pd.DateOffset(days=2)) & (train_selected_data['store_nbr'] == train_poor_weather['store_nbr'].iloc[i])]\n",
    "    train_existing_df = pd.concat([train_existing_df, train_d2], ignore_index=True)\n",
    "\n",
    "    train_d3=train_selected_data[(train_selected_data['date'] == train_poor_weather['date'].iloc[i] + pd.DateOffset(days=3)) & (train_selected_data['store_nbr'] == train_poor_weather['store_nbr'].iloc[i])]\n",
    "    train_existing_df = pd.concat([train_existing_df, train_d3], ignore_index=True)"
   ]
  },
  {
   "cell_type": "code",
   "execution_count": 77,
   "id": "3c1870a4",
   "metadata": {},
   "outputs": [
    {
     "name": "stdout",
     "output_type": "stream",
     "text": [
      "0\n",
      "1\n",
      "2\n",
      "3\n"
     ]
    },
    {
     "name": "stderr",
     "output_type": "stream",
     "text": [
      "C:\\Users\\Andrew\\AppData\\Local\\Temp\\ipykernel_2540\\1926072390.py:7: FutureWarning: The behavior of DataFrame concatenation with empty or all-NA entries is deprecated. In a future version, this will no longer exclude empty or all-NA columns when determining the result dtypes. To retain the old behavior, exclude the relevant entries before the concat operation.\n",
      "  test_existing_df= pd.concat([test_existing_df, test_d1], ignore_index=True)\n"
     ]
    }
   ],
   "source": [
    "# вибіраємо наступні 3 дні після снігу чи дощу\n",
    "test_existing_df = pd.DataFrame({'date': [], 'store_nbr': [], 'item_nbr':[],'units': [], 'station_nbr': [], 'codesum':[], 'preciptotal':[]})\n",
    "\n",
    "for i in range(len(test_poor_weather)):\n",
    "    print(i)\n",
    "    test_d1=test_selected_data[(test_selected_data['date'] == test_poor_weather['date'].iloc[i] + pd.DateOffset(days=1)) & (test_selected_data['store_nbr'] == test_poor_weather['store_nbr'].iloc[i])]\n",
    "    test_existing_df= pd.concat([test_existing_df, test_d1], ignore_index=True)\n",
    "\n",
    "    test_d2=test_selected_data[(test_selected_data['date'] == test_poor_weather['date'].iloc[i] + pd.DateOffset(days=2)) & (test_selected_data['store_nbr'] == test_poor_weather['store_nbr'].iloc[i])]\n",
    "    test_existing_df = pd.concat([test_existing_df, test_d2], ignore_index=True)\n",
    "\n",
    "    test_d3=test_selected_data[(test_selected_data['date'] == test_poor_weather['date'].iloc[i] + pd.DateOffset(days=3)) & (test_selected_data['store_nbr'] == test_poor_weather['store_nbr'].iloc[i])]\n",
    "    test_existing_df = pd.concat([test_existing_df, test_d3], ignore_index=True)"
   ]
  },
  {
   "cell_type": "code",
   "execution_count": 78,
   "id": "8a297f60",
   "metadata": {},
   "outputs": [
    {
     "data": {
      "text/plain": "        date  store_nbr  item_nbr  units  station_nbr   codesum  preciptotal\n0 2014-02-14       14.0      72.0    0.0         16.0  RA SN BR         0.28\n1 2014-02-15       14.0      72.0    0.0         16.0     SN BR         0.15\n2 2014-02-16       14.0      72.0    0.0         16.0  SN BR UP          NaN\n3 2014-02-14       45.0      72.0    0.0         16.0  RA SN BR         0.28\n4 2014-02-15       45.0      72.0    0.0         16.0     SN BR         0.15\n5 2014-02-16       45.0      72.0    0.0         16.0  SN BR UP          NaN",
      "text/html": "<div>\n<style scoped>\n    .dataframe tbody tr th:only-of-type {\n        vertical-align: middle;\n    }\n\n    .dataframe tbody tr th {\n        vertical-align: top;\n    }\n\n    .dataframe thead th {\n        text-align: right;\n    }\n</style>\n<table border=\"1\" class=\"dataframe\">\n  <thead>\n    <tr style=\"text-align: right;\">\n      <th></th>\n      <th>date</th>\n      <th>store_nbr</th>\n      <th>item_nbr</th>\n      <th>units</th>\n      <th>station_nbr</th>\n      <th>codesum</th>\n      <th>preciptotal</th>\n    </tr>\n  </thead>\n  <tbody>\n    <tr>\n      <th>0</th>\n      <td>2014-02-14</td>\n      <td>14.0</td>\n      <td>72.0</td>\n      <td>0.0</td>\n      <td>16.0</td>\n      <td>RA SN BR</td>\n      <td>0.28</td>\n    </tr>\n    <tr>\n      <th>1</th>\n      <td>2014-02-15</td>\n      <td>14.0</td>\n      <td>72.0</td>\n      <td>0.0</td>\n      <td>16.0</td>\n      <td>SN BR</td>\n      <td>0.15</td>\n    </tr>\n    <tr>\n      <th>2</th>\n      <td>2014-02-16</td>\n      <td>14.0</td>\n      <td>72.0</td>\n      <td>0.0</td>\n      <td>16.0</td>\n      <td>SN BR UP</td>\n      <td>NaN</td>\n    </tr>\n    <tr>\n      <th>3</th>\n      <td>2014-02-14</td>\n      <td>45.0</td>\n      <td>72.0</td>\n      <td>0.0</td>\n      <td>16.0</td>\n      <td>RA SN BR</td>\n      <td>0.28</td>\n    </tr>\n    <tr>\n      <th>4</th>\n      <td>2014-02-15</td>\n      <td>45.0</td>\n      <td>72.0</td>\n      <td>0.0</td>\n      <td>16.0</td>\n      <td>SN BR</td>\n      <td>0.15</td>\n    </tr>\n    <tr>\n      <th>5</th>\n      <td>2014-02-16</td>\n      <td>45.0</td>\n      <td>72.0</td>\n      <td>0.0</td>\n      <td>16.0</td>\n      <td>SN BR UP</td>\n      <td>NaN</td>\n    </tr>\n  </tbody>\n</table>\n</div>"
     },
     "execution_count": 78,
     "metadata": {},
     "output_type": "execute_result"
    }
   ],
   "source": [
    "# видаляєм однакові дані\n",
    "train_existing_df = train_existing_df.drop_duplicates()\n",
    "\n",
    "test_existing_df = test_existing_df.drop_duplicates()\n",
    "\n",
    "test_existing_df"
   ]
  },
  {
   "cell_type": "code",
   "execution_count": 79,
   "id": "c7825e03",
   "metadata": {},
   "outputs": [
    {
     "data": {
      "text/plain": "        date  store_nbr  item_nbr  units  station_nbr   codesum  preciptotal\n0 2014-02-14       14.0      72.0    0.0         16.0  RA SN BR         0.28\n1 2014-02-15       14.0      72.0    0.0         16.0     SN BR         0.15\n2 2014-02-16       14.0      72.0    0.0         16.0  SN BR UP         0.00\n3 2014-02-14       45.0      72.0    0.0         16.0  RA SN BR         0.28\n4 2014-02-15       45.0      72.0    0.0         16.0     SN BR         0.15\n5 2014-02-16       45.0      72.0    0.0         16.0  SN BR UP         0.00",
      "text/html": "<div>\n<style scoped>\n    .dataframe tbody tr th:only-of-type {\n        vertical-align: middle;\n    }\n\n    .dataframe tbody tr th {\n        vertical-align: top;\n    }\n\n    .dataframe thead th {\n        text-align: right;\n    }\n</style>\n<table border=\"1\" class=\"dataframe\">\n  <thead>\n    <tr style=\"text-align: right;\">\n      <th></th>\n      <th>date</th>\n      <th>store_nbr</th>\n      <th>item_nbr</th>\n      <th>units</th>\n      <th>station_nbr</th>\n      <th>codesum</th>\n      <th>preciptotal</th>\n    </tr>\n  </thead>\n  <tbody>\n    <tr>\n      <th>0</th>\n      <td>2014-02-14</td>\n      <td>14.0</td>\n      <td>72.0</td>\n      <td>0.0</td>\n      <td>16.0</td>\n      <td>RA SN BR</td>\n      <td>0.28</td>\n    </tr>\n    <tr>\n      <th>1</th>\n      <td>2014-02-15</td>\n      <td>14.0</td>\n      <td>72.0</td>\n      <td>0.0</td>\n      <td>16.0</td>\n      <td>SN BR</td>\n      <td>0.15</td>\n    </tr>\n    <tr>\n      <th>2</th>\n      <td>2014-02-16</td>\n      <td>14.0</td>\n      <td>72.0</td>\n      <td>0.0</td>\n      <td>16.0</td>\n      <td>SN BR UP</td>\n      <td>0.00</td>\n    </tr>\n    <tr>\n      <th>3</th>\n      <td>2014-02-14</td>\n      <td>45.0</td>\n      <td>72.0</td>\n      <td>0.0</td>\n      <td>16.0</td>\n      <td>RA SN BR</td>\n      <td>0.28</td>\n    </tr>\n    <tr>\n      <th>4</th>\n      <td>2014-02-15</td>\n      <td>45.0</td>\n      <td>72.0</td>\n      <td>0.0</td>\n      <td>16.0</td>\n      <td>SN BR</td>\n      <td>0.15</td>\n    </tr>\n    <tr>\n      <th>5</th>\n      <td>2014-02-16</td>\n      <td>45.0</td>\n      <td>72.0</td>\n      <td>0.0</td>\n      <td>16.0</td>\n      <td>SN BR UP</td>\n      <td>0.00</td>\n    </tr>\n  </tbody>\n</table>\n</div>"
     },
     "execution_count": 79,
     "metadata": {},
     "output_type": "execute_result"
    }
   ],
   "source": [
    "# заміна NaN значень\n",
    "train_existing_df.iloc[:, train_existing_df.columns.get_loc('preciptotal')].fillna(0.00, inplace=True)\n",
    "\n",
    "test_existing_df.iloc[:, test_existing_df.columns.get_loc('preciptotal')].fillna(0.00, inplace=True)\n",
    "\n",
    "test_existing_df"
   ]
  },
  {
   "cell_type": "code",
   "execution_count": 80,
   "id": "fc79c289",
   "metadata": {},
   "outputs": [
    {
     "name": "stdout",
     "output_type": "stream",
     "text": [
      "Загальна сума train_units: 14.0\n",
      "Загальна сума test_units: 0.0\n"
     ]
    }
   ],
   "source": [
    "# Обчислюємо суму стовпця \"units\"\n",
    "train_total_units = train_existing_df['units'].sum()\n",
    "print(\"Загальна сума train_units:\", train_total_units)\n",
    "\n",
    "test_total_units = test_existing_df['units'].sum()\n",
    "print(\"Загальна сума test_units:\", test_total_units)"
   ]
  },
  {
   "cell_type": "code",
   "execution_count": 81,
   "id": "cc4dd53a",
   "metadata": {},
   "outputs": [
    {
     "data": {
      "text/plain": "<Figure size 2000x500 with 1 Axes>",
      "image/png": "[encoded data removed]"
     },
     "metadata": {},
     "output_type": "display_data"
    }
   ],
   "source": [
    "plt.figure(figsize=(20, 5))\n",
    "plt.plot(train_existing_df['date'], train_existing_df['units'], label = 'Train data')\n",
    "plt.plot(test_existing_df['date'], test_existing_df['units'], label = 'Test data')\n",
    "plt.legend()\n",
    "plt.show()"
   ]
  },
  {
   "cell_type": "code",
   "execution_count": 82,
   "id": "c4b5c564",
   "metadata": {},
   "outputs": [
    {
     "data": {
      "text/plain": "      dayofyear\n0            10\n1            11\n2            12\n3            10\n4            11\n...         ...\n1286         85\n1287         90\n1288         93\n1289         94\n1290         95\n\n[1149 rows x 1 columns]",
      "text/html": "<div>\n<style scoped>\n    .dataframe tbody tr th:only-of-type {\n        vertical-align: middle;\n    }\n\n    .dataframe tbody tr th {\n        vertical-align: top;\n    }\n\n    .dataframe thead th {\n        text-align: right;\n    }\n</style>\n<table border=\"1\" class=\"dataframe\">\n  <thead>\n    <tr style=\"text-align: right;\">\n      <th></th>\n      <th>dayofyear</th>\n    </tr>\n  </thead>\n  <tbody>\n    <tr>\n      <th>0</th>\n      <td>10</td>\n    </tr>\n    <tr>\n      <th>1</th>\n      <td>11</td>\n    </tr>\n    <tr>\n      <th>2</th>\n      <td>12</td>\n    </tr>\n    <tr>\n      <th>3</th>\n      <td>10</td>\n    </tr>\n    <tr>\n      <th>4</th>\n      <td>11</td>\n    </tr>\n    <tr>\n      <th>...</th>\n      <td>...</td>\n    </tr>\n    <tr>\n      <th>1286</th>\n      <td>85</td>\n    </tr>\n    <tr>\n      <th>1287</th>\n      <td>90</td>\n    </tr>\n    <tr>\n      <th>1288</th>\n      <td>93</td>\n    </tr>\n    <tr>\n      <th>1289</th>\n      <td>94</td>\n    </tr>\n    <tr>\n      <th>1290</th>\n      <td>95</td>\n    </tr>\n  </tbody>\n</table>\n<p>1149 rows × 1 columns</p>\n</div>"
     },
     "execution_count": 82,
     "metadata": {},
     "output_type": "execute_result"
    }
   ],
   "source": [
    "# Створюємо нову ознаку - день у році\n",
    "train_existing_df['date'] = pd.to_datetime(train_existing_df['date'])\n",
    "test_existing_df['date'] = pd.to_datetime(test_existing_df['date'])\n",
    "\n",
    "train_existing_df['dayofyear'] = train_existing_df['date'].dt.dayofyear\n",
    "test_existing_df['dayofyear'] = test_existing_df['date'].dt.dayofyear\n",
    "\n",
    "# dayofyear | units\n",
    "# 1 | 0\n",
    "# 2 | 0\n",
    "\n",
    "x_train = pd.DataFrame()\n",
    "x_train['dayofyear'] = train_existing_df['dayofyear']\n",
    "x_test = pd.DataFrame()\n",
    "x_test['dayofyear'] = test_existing_df['dayofyear']\n",
    "\n",
    "y_train = train_existing_df['units']\n",
    "y_test = test_existing_df['units']\n",
    "\n",
    "x_train"
   ]
  },
  {
   "cell_type": "code",
   "execution_count": 83,
   "outputs": [
    {
     "data": {
      "text/plain": "LinearRegression()",
      "text/html": "<style>#sk-container-id-3 {color: black;}#sk-container-id-3 pre{padding: 0;}#sk-container-id-3 div.sk-toggleable {background-color: white;}#sk-container-id-3 label.sk-toggleable__label {cursor: pointer;display: block;width: 100%;margin-bottom: 0;padding: 0.3em;box-sizing: border-box;text-align: center;}#sk-container-id-3 label.sk-toggleable__label-arrow:before {content: \"▸\";float: left;margin-right: 0.25em;color: #696969;}#sk-container-id-3 label.sk-toggleable__label-arrow:hover:before {color: black;}#sk-container-id-3 div.sk-estimator:hover label.sk-toggleable__label-arrow:before {color: black;}#sk-container-id-3 div.sk-toggleable__content {max-height: 0;max-width: 0;overflow: hidden;text-align: left;background-color: #f0f8ff;}#sk-container-id-3 div.sk-toggleable__content pre {margin: 0.2em;color: black;border-radius: 0.25em;background-color: #f0f8ff;}#sk-container-id-3 input.sk-toggleable__control:checked~div.sk-toggleable__content {max-height: 200px;max-width: 100%;overflow: auto;}#sk-container-id-3 input.sk-toggleable__control:checked~label.sk-toggleable__label-arrow:before {content: \"▾\";}#sk-container-id-3 div.sk-estimator input.sk-toggleable__control:checked~label.sk-toggleable__label {background-color: #d4ebff;}#sk-container-id-3 div.sk-label input.sk-toggleable__control:checked~label.sk-toggleable__label {background-color: #d4ebff;}#sk-container-id-3 input.sk-hidden--visually {border: 0;clip: rect(1px 1px 1px 1px);clip: rect(1px, 1px, 1px, 1px);height: 1px;margin: -1px;overflow: hidden;padding: 0;position: absolute;width: 1px;}#sk-container-id-3 div.sk-estimator {font-family: monospace;background-color: #f0f8ff;border: 1px dotted black;border-radius: 0.25em;box-sizing: border-box;margin-bottom: 0.5em;}#sk-container-id-3 div.sk-estimator:hover {background-color: #d4ebff;}#sk-container-id-3 div.sk-parallel-item::after {content: \"\";width: 100%;border-bottom: 1px solid gray;flex-grow: 1;}#sk-container-id-3 div.sk-label:hover label.sk-toggleable__label {background-color: #d4ebff;}#sk-container-id-3 div.sk-serial::before {content: \"\";position: absolute;border-left: 1px solid gray;box-sizing: border-box;top: 0;bottom: 0;left: 50%;z-index: 0;}#sk-container-id-3 div.sk-serial {display: flex;flex-direction: column;align-items: center;background-color: white;padding-right: 0.2em;padding-left: 0.2em;position: relative;}#sk-container-id-3 div.sk-item {position: relative;z-index: 1;}#sk-container-id-3 div.sk-parallel {display: flex;align-items: stretch;justify-content: center;background-color: white;position: relative;}#sk-container-id-3 div.sk-item::before, #sk-container-id-3 div.sk-parallel-item::before {content: \"\";position: absolute;border-left: 1px solid gray;box-sizing: border-box;top: 0;bottom: 0;left: 50%;z-index: -1;}#sk-container-id-3 div.sk-parallel-item {display: flex;flex-direction: column;z-index: 1;position: relative;background-color: white;}#sk-container-id-3 div.sk-parallel-item:first-child::after {align-self: flex-end;width: 50%;}#sk-container-id-3 div.sk-parallel-item:last-child::after {align-self: flex-start;width: 50%;}#sk-container-id-3 div.sk-parallel-item:only-child::after {width: 0;}#sk-container-id-3 div.sk-dashed-wrapped {border: 1px dashed gray;margin: 0 0.4em 0.5em 0.4em;box-sizing: border-box;padding-bottom: 0.4em;background-color: white;}#sk-container-id-3 div.sk-label label {font-family: monospace;font-weight: bold;display: inline-block;line-height: 1.2em;}#sk-container-id-3 div.sk-label-container {text-align: center;}#sk-container-id-3 div.sk-container {/* jupyter's `normalize.less` sets `[hidden] { display: none; }` but bootstrap.min.css set `[hidden] { display: none !important; }` so we also need the `!important` here to be able to override the default hidden behavior on the sphinx rendered scikit-learn.org. See: https://github.com/scikit-learn/scikit-learn/issues/21755 */display: inline-block !important;position: relative;}#sk-container-id-3 div.sk-text-repr-fallback {display: none;}</style><div id=\"sk-container-id-3\" class=\"sk-top-container\"><div class=\"sk-text-repr-fallback\"><pre>LinearRegression()</pre><b>In a Jupyter environment, please rerun this cell to show the HTML representation or trust the notebook. <br />On GitHub, the HTML representation is unable to render, please try loading this page with nbviewer.org.</b></div><div class=\"sk-container\" hidden><div class=\"sk-item\"><div class=\"sk-estimator sk-toggleable\"><input class=\"sk-toggleable__control sk-hidden--visually\" id=\"sk-estimator-id-3\" type=\"checkbox\" checked><label for=\"sk-estimator-id-3\" class=\"sk-toggleable__label sk-toggleable__label-arrow\">LinearRegression</label><div class=\"sk-toggleable__content\"><pre>LinearRegression()</pre></div></div></div></div></div>"
     },
     "execution_count": 83,
     "metadata": {},
     "output_type": "execute_result"
    }
   ],
   "source": [
    "from sklearn.linear_model import LinearRegression\n",
    "\n",
    "model = LinearRegression()\n",
    "model.fit(x_train, y_train)"
   ],
   "metadata": {
    "collapsed": false
   }
  },
  {
   "cell_type": "code",
   "execution_count": 84,
   "id": "32b01b0a",
   "metadata": {},
   "outputs": [],
   "source": [
    "# Прогноз для тренувальних даних\n",
    "pred_train = model.predict(x_train)\n",
    "# Прогноз для даних, які модель ще не бачила\n",
    "pred_test = model.predict(x_test)"
   ]
  },
  {
   "cell_type": "code",
   "execution_count": 85,
   "id": "4c3a6b14",
   "metadata": {},
   "outputs": [
    {
     "name": "stdout",
     "output_type": "stream",
     "text": [
      "Сума помилок на тренувальних даних = 0.13775725926996832\n",
      "Сума помилок на тестових даних = 0.018636644287205573\n"
     ]
    },
    {
     "data": {
      "text/plain": "<Figure size 2000x500 with 1 Axes>",
      "image/png": "[encoded data removed]"
     },
     "metadata": {},
     "output_type": "display_data"
    }
   ],
   "source": [
    "# Перевіряємо якість чисельно\n",
    "# mean_squared_error - середня сума квадратів відхилень (менше -> краще)\n",
    "from sklearn.metrics import mean_squared_error\n",
    "\n",
    "print('Сума помилок на тренувальних даних =', mean_squared_error(y_train, pred_train)**0.5)\n",
    "print('Сума помилок на тестових даних =', mean_squared_error(y_test, pred_test)**0.5)\n",
    "\n",
    "plt.figure(figsize=(20, 5))\n",
    "plt.scatter(x_train['dayofyear'], y_train, label='Train y(x)')\n",
    "plt.scatter(x_test['dayofyear'], y_test, label='Test y(x)')\n",
    "plt.scatter(x_test['dayofyear'], pred_test, label='Test predict', color='red')\n",
    "plt.legend()\n",
    "plt.show()"
   ]
  }
 ],
 "metadata": {
  "kernelspec": {
   "display_name": "Python 3 (ipykernel)",
   "language": "python",
   "name": "python3"
  },
  "language_info": {
   "codemirror_mode": {
    "name": "ipython",
    "version": 3
   },
   "file_extension": ".py",
   "mimetype": "text/x-python",
   "name": "python",
   "nbconvert_exporter": "python",
   "pygments_lexer": "ipython3",
   "version": "3.10.1"
  }
 },
 "nbformat": 4,
 "nbformat_minor": 5
}
